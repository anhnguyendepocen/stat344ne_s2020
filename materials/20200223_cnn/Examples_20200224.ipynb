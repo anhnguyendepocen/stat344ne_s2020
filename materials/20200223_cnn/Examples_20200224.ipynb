{
 "cells": [
  {
   "cell_type": "markdown",
   "metadata": {
    "colab_type": "text",
    "id": "rZfunkP-hB5c"
   },
   "source": [
    "# Set Up"
   ]
  },
  {
   "cell_type": "code",
   "execution_count": 0,
   "metadata": {
    "colab": {
     "base_uri": "https://localhost:8080/",
     "height": 82
    },
    "colab_type": "code",
    "id": "UlEA1wYdLqfM",
    "outputId": "bb7c7f22-f2aa-4215-f5f0-357deb5cddc5"
   },
   "outputs": [
    {
     "name": "stderr",
     "output_type": "stream",
     "text": [
      "Using TensorFlow backend.\n"
     ]
    },
    {
     "data": {
      "text/html": [
       "<p style=\"color: red;\">\n",
       "The default version of TensorFlow in Colab will soon switch to TensorFlow 2.x.<br>\n",
       "We recommend you <a href=\"https://www.tensorflow.org/guide/migrate\" target=\"_blank\">upgrade</a> now \n",
       "or ensure your notebook will continue to use TensorFlow 1.x via the <code>%tensorflow_version 1.x</code> magic:\n",
       "<a href=\"https://colab.research.google.com/notebooks/tensorflow_version.ipynb\" target=\"_blank\">more info</a>.</p>\n"
      ],
      "text/plain": [
       "<IPython.core.display.HTML object>"
      ]
     },
     "metadata": {
      "tags": []
     },
     "output_type": "display_data"
    }
   ],
   "source": [
    "import numpy as np\n",
    "from scipy.special import expit as sigmoid\n",
    "import matplotlib.pyplot as plt\n",
    "from keras import models\n",
    "from keras import optimizers\n",
    "from keras import layers"
   ]
  },
  {
   "cell_type": "code",
   "execution_count": 0,
   "metadata": {
    "colab": {},
    "colab_type": "code",
    "id": "gtrHc_lmL4sM"
   },
   "outputs": [],
   "source": [
    "def sim_square(img_dim, sq_radius):\n",
    "  '''\n",
    "  Generate a greyscale image of shape (img_dim, img_dim, 1) with a square of radius\n",
    "  sq_radius in it.\n",
    "\n",
    "  Arguments:\n",
    "   - img_dim: dimension of image in pixels\n",
    "   - sq_radius: radius of square.  square is of width 2*radius\n",
    "  '''\n",
    "  result = np.full((img_dim, img_dim, 1), 255)\n",
    "  center = np.random.randint(\n",
    "      low = sq_radius,\n",
    "      high = img_dim - sq_radius + 1,\n",
    "      size = (2,)\n",
    "  )\n",
    "  result[(center[0] - sq_radius):(center[0] + sq_radius),\n",
    "         (center[1] - sq_radius):(center[1] + sq_radius), 0] = 0\n",
    "  return(result)\n",
    "\n",
    "def sim_triangle(img_dim, tri_radius):\n",
    "  '''\n",
    "  Generate a greyscale image of shape (img_dim, img_dim) with a triangle of\n",
    "  radius tri_radius in it.\n",
    "\n",
    "  Arguments:\n",
    "   - img_dim: dimension of image in pixels\n",
    "   - tri_radius: radius of triangle.  bottom of triangle is of width 2*radius\n",
    "  '''\n",
    "  result = np.full((img_dim, img_dim, 1), 255)\n",
    "  center = np.random.randint(\n",
    "      low = tri_radius,\n",
    "      high = img_dim - tri_radius,\n",
    "      size = (2,)\n",
    "  )\n",
    "  \n",
    "  for i in range(2*tri_radius):\n",
    "    result[center[0] + tri_radius - i, (center[1] - tri_radius):(center[1] - tri_radius + i + 1), 0] = 0\n",
    "  return(result)\n",
    "\n",
    "def sim_data(n, img_dim, radius):\n",
    "  x = np.ndarray((2*n, img_dim, img_dim, 1))\n",
    "  for i in range(n):\n",
    "    x[i, ...] = sim_square(img_dim, radius)\n",
    "\n",
    "  for i in range(n):\n",
    "    x[n + i, ...] = sim_triangle(img_dim, radius)\n",
    "  \n",
    "  y = np.concatenate((np.ones((n, 1)), np.zeros((n, 1))), axis = 0)\n",
    "\n",
    "  return(x, y)\n",
    "\n",
    "def do_convolutions(A, Ws):\n",
    "  '''\n",
    "  Do convolution of input A with filters W\n",
    "\n",
    "  Arguments:\n",
    "   - A: input of shape (n_H, n_W, n_C)\n",
    "   - Ws: list of filters, each of shape (f, f, n_C)\n",
    "  \n",
    "  Return:\n",
    "   - filtered result\n",
    "  '''\n",
    "  (n_H, n_W, n_C) = A.shape\n",
    "  n_C_out = len(Ws)\n",
    "  f = Ws[0].shape[0]\n",
    "\n",
    "  output = np.zeros((n_H - f + 1, n_W - f + 1, n_C_out))\n",
    "  for i in range(n_H - f + 1):\n",
    "    for j in range(n_W - f + 1):\n",
    "      for c in range(n_C_out):\n",
    "        output[i, j, c] = np.sum(A[i:(i+f), j:(j+f), :] * Ws[c])\n",
    "  \n",
    "  return(output)\n",
    "\n",
    "def max_pool(A, s):\n",
    "  (n_H, n_W, n_C) = A.shape\n",
    "  n_H_out = int(n_H/s)\n",
    "  n_W_out = int(n_W/s)\n",
    "\n",
    "  output = np.zeros((n_H_out, n_W_out, n_C))\n",
    "  for i in range(n_H_out):\n",
    "    for j in range(n_W_out):\n",
    "      start_row = i*s\n",
    "      end_row = (i+1)*s\n",
    "      start_col = j*s\n",
    "      end_col = (j+1)*s\n",
    "      for c in range(n_C):\n",
    "        output[i, j, c] = np.max(A[start_row:end_row, start_col:end_col, c])\n",
    "  \n",
    "  return(output)\n",
    "\n",
    "\n",
    "def dense_layer(A, W):\n",
    "  return(relu(np.sum(np.squeeze(A) * W)))\n",
    "\n",
    "\n",
    "def relu(z):\n",
    "  '''\n",
    "  ReLU function\n",
    "\n",
    "  Arguments:\n",
    "   - z: numpy array of real numbers\n",
    "  \n",
    "  Return:\n",
    "   - elementwise maximum of z and 0\n",
    "  '''\n",
    "\n",
    "  return(np.maximum(0, z))"
   ]
  },
  {
   "cell_type": "markdown",
   "metadata": {
    "colab_type": "text",
    "id": "bbcqahfhhJ7x"
   },
   "source": [
    "# Square and Triangle"
   ]
  },
  {
   "cell_type": "code",
   "execution_count": 0,
   "metadata": {
    "colab": {
     "base_uri": "https://localhost:8080/",
     "height": 300
    },
    "colab_type": "code",
    "id": "So14pC22g9bJ",
    "outputId": "2eaa9074-6ce8-4ce5-b680-bf1b008d0470"
   },
   "outputs": [
    {
     "name": "stdout",
     "output_type": "stream",
     "text": [
      "(24, 24, 1)\n"
     ]
    },
    {
     "data": {
      "text/plain": [
       "<matplotlib.image.AxesImage at 0x7f5a7b89c1d0>"
      ]
     },
     "execution_count": 3,
     "metadata": {
      "tags": []
     },
     "output_type": "execute_result"
    },
    {
     "data": {
      "image/png": "[encoded data removed]",
      "text/plain": [
       "<Figure size 432x288 with 1 Axes>"
      ]
     },
     "metadata": {
      "tags": []
     },
     "output_type": "display_data"
    }
   ],
   "source": [
    "np.random.seed(4381)\n",
    "sq = sim_square(24, 3)\n",
    "print(sq.shape)\n",
    "plt.imshow(sq[:,:,0], cmap = \"gray\")"
   ]
  },
  {
   "cell_type": "code",
   "execution_count": 0,
   "metadata": {
    "colab": {
     "base_uri": "https://localhost:8080/",
     "height": 860
    },
    "colab_type": "code",
    "id": "QO9x-kLxjFd_",
    "outputId": "10038b49-b1ef-43a5-eaa6-4bed3a4d32b7"
   },
   "outputs": [
    {
     "data": {
      "text/plain": [
       "array([[255, 255, 255, 255, 255, 255, 255, 255, 255, 255, 255, 255, 255,\n",
       "        255, 255, 255, 255, 255, 255, 255, 255, 255, 255, 255],\n",
       "       [255, 255, 255, 255, 255, 255, 255, 255, 255, 255, 255, 255, 255,\n",
       "        255, 255, 255, 255, 255, 255, 255, 255, 255, 255, 255],\n",
       "       [255, 255, 255, 255, 255, 255, 255, 255, 255, 255, 255, 255, 255,\n",
       "        255, 255, 255, 255, 255, 255, 255, 255, 255, 255, 255],\n",
       "       [255, 255, 255, 255, 255, 255, 255, 255, 255, 255, 255, 255, 255,\n",
       "        255, 255, 255, 255, 255, 255, 255, 255, 255, 255, 255],\n",
       "       [255, 255, 255, 255, 255, 255, 255, 255, 255, 255, 255, 255, 255,\n",
       "        255, 255, 255, 255, 255, 255, 255, 255, 255, 255, 255],\n",
       "       [255, 255, 255, 255, 255, 255, 255, 255, 255, 255, 255, 255, 255,\n",
       "        255, 255, 255, 255, 255, 255, 255, 255, 255, 255, 255],\n",
       "       [255, 255, 255, 255, 255, 255, 255, 255, 255, 255, 255, 255, 255,\n",
       "        255, 255, 255, 255, 255, 255, 255, 255, 255, 255, 255],\n",
       "       [255, 255, 255, 255, 255, 255, 255, 255, 255, 255, 255, 255, 255,\n",
       "        255, 255, 255, 255, 255, 255, 255, 255, 255, 255, 255],\n",
       "       [255, 255, 255, 255, 255, 255, 255, 255, 255, 255, 255, 255, 255,\n",
       "        255, 255, 255, 255, 255, 255, 255, 255, 255, 255, 255],\n",
       "       [255, 255, 255, 255, 255, 255, 255, 255, 255, 255, 255, 255, 255,\n",
       "        255, 255, 255, 255, 255, 255, 255, 255, 255, 255, 255],\n",
       "       [255, 255, 255, 255, 255, 255, 255, 255, 255, 255, 255, 255, 255,\n",
       "        255, 255, 255, 255, 255, 255, 255, 255, 255, 255, 255],\n",
       "       [255, 255, 255, 255, 255, 255, 255, 255, 255, 255, 255, 255, 255,\n",
       "        255, 255, 255, 255, 255, 255, 255, 255, 255, 255, 255],\n",
       "       [255, 255, 255, 255, 255, 255, 255, 255, 255, 255, 255, 255, 255,\n",
       "        255, 255, 255, 255, 255, 255, 255, 255, 255, 255, 255],\n",
       "       [255, 255, 255, 255, 255, 255, 255, 255, 255, 255, 255, 255, 255,\n",
       "        255, 255, 255, 255, 255, 255, 255, 255, 255, 255, 255],\n",
       "       [255, 255, 255, 255, 255, 255, 255, 255, 255, 255, 255, 255, 255,\n",
       "        255, 255, 255, 255, 255, 255, 255, 255, 255, 255, 255],\n",
       "       [255, 255, 255, 255, 255, 255, 255, 255, 255, 255, 255, 255, 255,\n",
       "        255, 255, 255, 255, 255, 255, 255, 255, 255, 255, 255],\n",
       "       [255,   0,   0,   0,   0,   0,   0, 255, 255, 255, 255, 255, 255,\n",
       "        255, 255, 255, 255, 255, 255, 255, 255, 255, 255, 255],\n",
       "       [255,   0,   0,   0,   0,   0,   0, 255, 255, 255, 255, 255, 255,\n",
       "        255, 255, 255, 255, 255, 255, 255, 255, 255, 255, 255],\n",
       "       [255,   0,   0,   0,   0,   0,   0, 255, 255, 255, 255, 255, 255,\n",
       "        255, 255, 255, 255, 255, 255, 255, 255, 255, 255, 255],\n",
       "       [255,   0,   0,   0,   0,   0,   0, 255, 255, 255, 255, 255, 255,\n",
       "        255, 255, 255, 255, 255, 255, 255, 255, 255, 255, 255],\n",
       "       [255,   0,   0,   0,   0,   0,   0, 255, 255, 255, 255, 255, 255,\n",
       "        255, 255, 255, 255, 255, 255, 255, 255, 255, 255, 255],\n",
       "       [255,   0,   0,   0,   0,   0,   0, 255, 255, 255, 255, 255, 255,\n",
       "        255, 255, 255, 255, 255, 255, 255, 255, 255, 255, 255],\n",
       "       [255, 255, 255, 255, 255, 255, 255, 255, 255, 255, 255, 255, 255,\n",
       "        255, 255, 255, 255, 255, 255, 255, 255, 255, 255, 255],\n",
       "       [255, 255, 255, 255, 255, 255, 255, 255, 255, 255, 255, 255, 255,\n",
       "        255, 255, 255, 255, 255, 255, 255, 255, 255, 255, 255]])"
      ]
     },
     "execution_count": 4,
     "metadata": {
      "tags": []
     },
     "output_type": "execute_result"
    }
   ],
   "source": [
    "sq[:,:,0]"
   ]
  },
  {
   "cell_type": "code",
   "execution_count": 0,
   "metadata": {
    "colab": {
     "base_uri": "https://localhost:8080/",
     "height": 283
    },
    "colab_type": "code",
    "id": "RaPDJv48hWS8",
    "outputId": "7ac0efa9-7115-4590-c534-1e5e7bb24dc1"
   },
   "outputs": [
    {
     "data": {
      "text/plain": [
       "<matplotlib.image.AxesImage at 0x7f5a7b3d7ba8>"
      ]
     },
     "execution_count": 5,
     "metadata": {
      "tags": []
     },
     "output_type": "execute_result"
    },
    {
     "data": {
      "image/png": "[encoded data removed]",
      "text/plain": [
       "<Figure size 432x288 with 1 Axes>"
      ]
     },
     "metadata": {
      "tags": []
     },
     "output_type": "display_data"
    }
   ],
   "source": [
    "sq = sim_square(24, 3)\n",
    "plt.imshow(sq[:,:,0], cmap = \"gray\")"
   ]
  },
  {
   "cell_type": "code",
   "execution_count": 0,
   "metadata": {
    "colab": {
     "base_uri": "https://localhost:8080/",
     "height": 283
    },
    "colab_type": "code",
    "id": "qSDPpjYTiE0M",
    "outputId": "05ba0fb1-cf73-47d6-9b82-716ed27faae5"
   },
   "outputs": [
    {
     "data": {
      "text/plain": [
       "<matplotlib.image.AxesImage at 0x7f5a7b33d630>"
      ]
     },
     "execution_count": 6,
     "metadata": {
      "tags": []
     },
     "output_type": "execute_result"
    },
    {
     "data": {
      "image/png": "[encoded data removed]",
      "text/plain": [
       "<Figure size 432x288 with 1 Axes>"
      ]
     },
     "metadata": {
      "tags": []
     },
     "output_type": "display_data"
    }
   ],
   "source": [
    "tri = sim_triangle(24, 3)\n",
    "plt.imshow(tri[:,:,0], cmap = \"gray\")"
   ]
  },
  {
   "cell_type": "markdown",
   "metadata": {
    "colab_type": "text",
    "id": "gEXKpp-Hhm8o"
   },
   "source": [
    "# Manual Neural Network\n",
    "\n",
    "## First Hidden Layer: Convolutional, Edge Detection\n",
    "\n",
    "I manually specify five different 5 by 5 filters:"
   ]
  },
  {
   "cell_type": "code",
   "execution_count": 0,
   "metadata": {
    "colab": {},
    "colab_type": "code",
    "id": "xdpl_cgRdrCb"
   },
   "outputs": [],
   "source": [
    "W_vert_left = np.array([[1, 1, 0, -1, -1],\n",
    "                        [1, 1, 0, -1, -1],\n",
    "                        [1, 1, 0, -1, -1],\n",
    "                        [1, 1, 0, -1, -1],\n",
    "                        [1, 1, 0, -1, -1]]).reshape((5,5,1))\n",
    "b_vert_left = -2100\n",
    "\n",
    "W_vert_right = np.array([[-1, -1, 0, 1, 1],\n",
    "                        [-1, -1, 0, 1, 1],\n",
    "                        [-1, -1, 0, 1, 1],\n",
    "                        [-1, -1, 0, 1, 1],\n",
    "                        [-1, -1, 0, 1, 1]]).reshape((5,5,1))\n",
    "b_vert_right = -2100\n",
    "\n",
    "W_horiz_top = np.array([[1, 1, 1, 1, 1],\n",
    "                        [1, 1, 1, 1, 1],\n",
    "                        [0, 0, 0, 0, 0],\n",
    "                        [-1, -1, -1, -1, -1],\n",
    "                        [-1, -1, -1, -1, -1]]).reshape((5,5,1))\n",
    "b_horiz_top = -2100\n",
    "\n",
    "W_horiz_bottom = np.array([[-1, -1, -1, -1, -1],\n",
    "                           [-1, -1, -1, -1, -1],\n",
    "                         [0, 0, 0, 0, 0],\n",
    "                         [1, 1, 1, 1, 1],\n",
    "                         [1, 1, 1, 1, 1]]).reshape((5,5,1))\n",
    "b_horiz_bottom = -2100\n",
    "\n",
    "W_45_lower_right = np.array([[-1, -1, -1, -1, 0],\n",
    "                     [-1, -1, -1, 0, 1],\n",
    "                     [-1, -1, 0, 1, 1],\n",
    "                     [-1, 0, 1, 1, 1],\n",
    "                     [0, 1, 1, 1, 1]]).reshape((5,5,1))\n",
    "b_45_lower_right = -2100\n",
    "\n",
    "all_W1 = [W_vert_left, W_vert_right, W_horiz_top, W_horiz_bottom, W_45_lower_right]\n",
    "all_b1 = np.array([b_vert_left, b_vert_right, b_horiz_top, b_horiz_bottom, b_45_lower_right]).reshape(1, 1, 5)"
   ]
  },
  {
   "cell_type": "markdown",
   "metadata": {
    "colab_type": "text",
    "id": "TpD0gLESojZX"
   },
   "source": [
    "Calculating the activation outputs for the square and for the triangle:"
   ]
  },
  {
   "cell_type": "code",
   "execution_count": 0,
   "metadata": {
    "colab": {
     "base_uri": "https://localhost:8080/",
     "height": 52
    },
    "colab_type": "code",
    "id": "YtelqzBgmtqe",
    "outputId": "bde377ae-d5b1-44fa-8fa5-01d2118b19fe"
   },
   "outputs": [
    {
     "name": "stdout",
     "output_type": "stream",
     "text": [
      "shape = (20, 20, 5)\n",
      "shape = (20, 20, 5)\n"
     ]
    }
   ],
   "source": [
    "sq_z_no_b1 = do_convolutions(sq, all_W1)\n",
    "sq_z1 = sq_z_no_b1 + all_b1\n",
    "sq_a1 = relu(sq_z1)\n",
    "print(\"shape = \" + str(sq_a1.shape))\n",
    "\n",
    "tri_z_no_b1 = do_convolutions(tri, all_W1)\n",
    "tri_z1 = tri_z_no_b1 + all_b1\n",
    "tri_a1 = relu(tri_z1)\n",
    "print(\"shape = \" + str(tri_a1.shape))"
   ]
  },
  {
   "cell_type": "markdown",
   "metadata": {
    "colab_type": "text",
    "id": "1cNGy2YFlh1x"
   },
   "source": [
    "Here's a display of the filter outputs for the square image:"
   ]
  },
  {
   "cell_type": "code",
   "execution_count": 0,
   "metadata": {
    "colab": {
     "base_uri": "https://localhost:8080/",
     "height": 659
    },
    "colab_type": "code",
    "id": "38__whTym0o-",
    "outputId": "2e139507-1ffa-4497-81ee-41cb6cc5495a"
   },
   "outputs": [
    {
     "name": "stdout",
     "output_type": "stream",
     "text": [
      "\n",
      "filter 0\n",
      "largest z value before adding b = 2550.0\n",
      "largest a value = 450.0\n",
      "\n",
      "filter 1\n",
      "largest z value before adding b = 2550.0\n",
      "largest a value = 450.0\n",
      "\n",
      "filter 2\n",
      "largest z value before adding b = 2550.0\n",
      "largest a value = 450.0\n",
      "\n",
      "filter 3\n",
      "largest z value before adding b = 2550.0\n",
      "largest a value = 450.0\n",
      "\n",
      "filter 4\n",
      "largest z value before adding b = 2040.0\n",
      "largest a value = 0.0\n"
     ]
    },
    {
     "data": {
      "image/png": "[encoded data removed]",
      "text/plain": [
       "<Figure size 864x360 with 12 Axes>"
      ]
     },
     "metadata": {
      "tags": []
     },
     "output_type": "display_data"
    }
   ],
   "source": [
    "fig, axs = plt.subplots(2, 6, figsize=(12, 5))\n",
    "axs[0,0].imshow(sq[:, :, 0], cmap = \"gray\")\n",
    "axs[1,0].imshow(sq[:, :, 0], cmap = \"gray\")\n",
    "\n",
    "b = -2100.0\n",
    "\n",
    "for i in range(5):\n",
    "  print(\"\\nfilter \" + str(i))\n",
    "  print(\"largest z value before adding b = \" + str(np.max(sq_z_no_b1[:,:,i])))\n",
    "  print(\"largest a value = \" + str(np.max(sq_a1[:,:,i])))\n",
    "\n",
    "  axs[0, i+1].imshow(sq_z_no_b1[:,:,i], cmap = \"gray\")\n",
    "  axs[0, i+1].set_title(\"z-b, filter \" + str(i))\n",
    "  axs[1, i+1].imshow(sq_a1[:,:,i], cmap = \"gray\")\n",
    "  axs[1, i+1].set_title(\"a, filter \" + str(i))"
   ]
  },
  {
   "cell_type": "markdown",
   "metadata": {
    "colab_type": "text",
    "id": "6BNQi-UcP2A2"
   },
   "source": [
    "Here's a display of the filter outputs for the triangle image:"
   ]
  },
  {
   "cell_type": "code",
   "execution_count": 0,
   "metadata": {
    "colab": {
     "base_uri": "https://localhost:8080/",
     "height": 659
    },
    "colab_type": "code",
    "id": "hy_gEQJ1P5Vb",
    "outputId": "4ed9f19a-af76-4c28-c25e-2453793ec687"
   },
   "outputs": [
    {
     "name": "stdout",
     "output_type": "stream",
     "text": [
      "\n",
      "filter 0\n",
      "largest z value before adding b = 2550.0\n",
      "largest a value = 450.0\n",
      "\n",
      "filter 1\n",
      "largest z value before adding b = 1530.0\n",
      "largest a value = 0.0\n",
      "\n",
      "filter 2\n",
      "largest z value before adding b = 2550.0\n",
      "largest a value = 450.0\n",
      "\n",
      "filter 3\n",
      "largest z value before adding b = 1530.0\n",
      "largest a value = 0.0\n",
      "\n",
      "filter 4\n",
      "largest z value before adding b = 2550.0\n",
      "largest a value = 450.0\n"
     ]
    },
    {
     "data": {
      "image/png": "[encoded data removed]",
      "text/plain": [
       "<Figure size 864x360 with 12 Axes>"
      ]
     },
     "metadata": {
      "tags": []
     },
     "output_type": "display_data"
    }
   ],
   "source": [
    "fig, axs = plt.subplots(2, 6, figsize=(12, 5))\n",
    "axs[0,0].imshow(tri[:, :, 0], cmap = \"gray\")\n",
    "axs[1,0].imshow(tri[:, :, 0], cmap = \"gray\")\n",
    "\n",
    "b = -2100.0\n",
    "\n",
    "for i in range(5):\n",
    "  print(\"\\nfilter \" + str(i))\n",
    "  print(\"largest z value before adding b = \" + str(np.max(tri_z_no_b1[:,:,i])))\n",
    "  print(\"largest a value = \" + str(np.max(tri_a1[:,:,i])))\n",
    "\n",
    "  axs[0, i+1].imshow(tri_z_no_b1[:,:,i], cmap = \"gray\")\n",
    "  axs[0, i+1].set_title(\"z-b, filter \" + str(i))\n",
    "  axs[1, i+1].imshow(tri_a1[:,:,i], cmap = \"gray\")\n",
    "  axs[1, i+1].set_title(\"a, filter \" + str(i))"
   ]
  },
  {
   "cell_type": "code",
   "execution_count": 0,
   "metadata": {
    "colab": {
     "base_uri": "https://localhost:8080/",
     "height": 35
    },
    "colab_type": "code",
    "id": "RdGB3Eaop0k3",
    "outputId": "8a374e2d-12ae-4de6-ae7d-6b77a2c7b6b4"
   },
   "outputs": [
    {
     "data": {
      "text/plain": [
       "(array([6, 6, 7, 7]), array([3, 4, 3, 4]))"
      ]
     },
     "execution_count": 11,
     "metadata": {
      "tags": []
     },
     "output_type": "execute_result"
    }
   ],
   "source": [
    "np.where(sq_a1[:,:,0] > 0)"
   ]
  },
  {
   "cell_type": "code",
   "execution_count": 0,
   "metadata": {
    "colab": {
     "base_uri": "https://localhost:8080/",
     "height": 35
    },
    "colab_type": "code",
    "id": "Xsa3Y88vqUoQ",
    "outputId": "d2584f5a-400e-4660-8472-918fa0d03514"
   },
   "outputs": [
    {
     "data": {
      "text/plain": [
       "(array([6, 6, 7, 7]), array([ 9, 10,  9, 10]))"
      ]
     },
     "execution_count": 12,
     "metadata": {
      "tags": []
     },
     "output_type": "execute_result"
    }
   ],
   "source": [
    "np.where(sq_a1[:,:,1] > 0)"
   ]
  },
  {
   "cell_type": "code",
   "execution_count": 0,
   "metadata": {
    "colab": {
     "base_uri": "https://localhost:8080/",
     "height": 35
    },
    "colab_type": "code",
    "id": "WWV61VJoqUz2",
    "outputId": "cccdb63f-b9f9-4ba1-e354-22098ba305ec"
   },
   "outputs": [
    {
     "data": {
      "text/plain": [
       "(array([3, 3, 4, 4]), array([6, 7, 6, 7]))"
      ]
     },
     "execution_count": 13,
     "metadata": {
      "tags": []
     },
     "output_type": "execute_result"
    }
   ],
   "source": [
    "np.where(sq_a1[:,:,2] > 0)"
   ]
  },
  {
   "cell_type": "code",
   "execution_count": 0,
   "metadata": {
    "colab": {
     "base_uri": "https://localhost:8080/",
     "height": 35
    },
    "colab_type": "code",
    "id": "Lw71TopzqU8b",
    "outputId": "3190f88e-e925-4294-bf9c-2f57209c8473"
   },
   "outputs": [
    {
     "data": {
      "text/plain": [
       "(array([ 9,  9, 10, 10]), array([6, 7, 6, 7]))"
      ]
     },
     "execution_count": 14,
     "metadata": {
      "tags": []
     },
     "output_type": "execute_result"
    }
   ],
   "source": [
    "np.where(sq_a1[:,:,3] > 0)"
   ]
  },
  {
   "cell_type": "code",
   "execution_count": 0,
   "metadata": {
    "colab": {
     "base_uri": "https://localhost:8080/",
     "height": 35
    },
    "colab_type": "code",
    "id": "Nt8QyscUsycM",
    "outputId": "a16b56a8-df33-47bb-a220-ac9f1fca7491"
   },
   "outputs": [
    {
     "data": {
      "text/plain": [
       "(20, 20, 5)"
      ]
     },
     "execution_count": 15,
     "metadata": {
      "tags": []
     },
     "output_type": "execute_result"
    }
   ],
   "source": [
    "sq_a1.shape"
   ]
  },
  {
   "cell_type": "markdown",
   "metadata": {
    "colab_type": "text",
    "id": "W4vu2ISvvHX9"
   },
   "source": [
    "## Second Hidden Layer: Max Pooling, Size Reduction"
   ]
  },
  {
   "cell_type": "code",
   "execution_count": 0,
   "metadata": {
    "colab": {
     "base_uri": "https://localhost:8080/",
     "height": 105
    },
    "colab_type": "code",
    "id": "GLsLIH6-vPwc",
    "outputId": "9a32df29-4a1d-4c5b-941f-3df33f94f0b9"
   },
   "outputs": [
    {
     "name": "stdout",
     "output_type": "stream",
     "text": [
      "(10, 10, 5)\n",
      "(array([3, 3]), array([1, 2]))\n",
      "(array([3, 3]), array([4, 5]))\n",
      "(array([1, 2]), array([3, 3]))\n",
      "(array([4, 5]), array([3, 3]))\n"
     ]
    }
   ],
   "source": [
    "sq_a2 = max_pool(sq_a1, 2)\n",
    "tri_a2 = max_pool(tri_a1, 2)\n",
    "print(sq_a2.shape)\n",
    "print(np.where(sq_a2[:,:,0] > 0))\n",
    "print(np.where(sq_a2[:,:,1] > 0))\n",
    "print(np.where(sq_a2[:,:,2] > 0))\n",
    "print(np.where(sq_a2[:,:,3] > 0))"
   ]
  },
  {
   "cell_type": "markdown",
   "metadata": {
    "colab_type": "text",
    "id": "X5eLLT6pwaAI"
   },
   "source": [
    "## Third Hidden Layer: Convolutional, Corner Detection"
   ]
  },
  {
   "cell_type": "code",
   "execution_count": 0,
   "metadata": {
    "colab": {},
    "colab_type": "code",
    "id": "Ppww__9HrAV0"
   },
   "outputs": [],
   "source": [
    "# Filter to detect a top left square (or triangle) corner\n",
    "W_90_corner_top_left = np.zeros((3, 3, 5)) # mostly irrelevant\n",
    "\n",
    "# vertical left edge (channel 0 of previous layer) exists\n",
    "# in lower-left corner of this 3 by 3 patch of previous layer's activations\n",
    "W_90_corner_top_left[[1,1,2,2], [0,1,0,1], 0] = 1.0\n",
    "\n",
    "# horizontal top edge (channel 2 of previous layer) exists\n",
    "# in upper-right corner of this 3 by 3 patch of previous layer's activations\n",
    "W_90_corner_top_left[[0,0,1,1], [1,2,1,2], 2] = 1.0\n",
    "\n",
    "b_90_corner_top_left = -1000\n",
    "\n",
    "\n",
    "# Filter to detect a top right square corner\n",
    "W_90_corner_top_right = np.zeros((3, 3, 5)) # mostly irrelevant\n",
    "\n",
    "# vertical right edge (channel 1 of previous layer) exists\n",
    "# in lower-right corner of this 3 by 3 patch of previous layer's activations\n",
    "W_90_corner_top_right[[1,1,2,2], [1,2,1,2], 1] = 1.0\n",
    "\n",
    "# horizontal top edge (channel 2 of previous layer) exists\n",
    "# in upper-left corner of this 3 by 3 patch of previous layer's activations\n",
    "W_90_corner_top_right[[0,0,1,1], [0,1,0,1], 2] = 1.0\n",
    "\n",
    "b_90_corner_top_right = -1000\n",
    "\n",
    "\n",
    "# Filter to detect a bottom left square corner\n",
    "W_90_corner_bottom_left = np.zeros((3, 3, 5)) # mostly irrelevant\n",
    "\n",
    "# vertical left edge (channel 0 of previous layer) exists\n",
    "# in upper-left corner of this 3 by 3 patch of previous layer's activations\n",
    "W_90_corner_bottom_left[[0,0,1,1], [0,1,0,1], 0] = 1.0\n",
    "\n",
    "# horizontal bottom edge (channel 3 of previous layer) exists\n",
    "# in lower-right corner of this 3 by 3 patch of previous layer's activations\n",
    "W_90_corner_bottom_left[[1,1,2,2], [1,2,1,2], 3] = 1.0\n",
    "\n",
    "b_90_corner_bottom_left = -1000\n",
    "\n",
    "\n",
    "# Filter to detect a bottom right square corner\n",
    "W_90_corner_bottom_right = np.zeros((3, 3, 5)) # mostly irrelevant\n",
    "\n",
    "# vertical right edge (channel 1 of previous layer) exists\n",
    "# in upper-right corner of this 3 by 3 patch of previous layer's activations\n",
    "W_90_corner_bottom_right[[0,0,1,1], [1,2,1,2], 1] = 1.0\n",
    "\n",
    "# horizontal bottom edge (channel 3 of previous layer) exists\n",
    "# in lower-left corner of this 3 by 3 patch of previous layer's activations\n",
    "W_90_corner_bottom_right[[1,1,2,2], [0,1,0,1], 3] = 1.0\n",
    "\n",
    "b_90_corner_bottom_right = -1000\n",
    "\n",
    "\n",
    "# Filter to detect a top right triangle corner\n",
    "W_45_corner_top_right = np.zeros((3, 3, 5)) # mostly irrelevant\n",
    "\n",
    "# vertical left edge (channel 0 of previous layer) exists\n",
    "# in lower-left corner of this 3 by 3 patch of previous layer's activations\n",
    "W_45_corner_top_right[[1,1,2,2], [0,1,0,1], 0] = 1.0\n",
    "\n",
    "# diagonal edge (channel 4 of previous layer) exists\n",
    "# in middle-to-lower part of this 3 by 3 patch of previous layer's activations\n",
    "W_45_corner_top_right[[1,1,1,2,2,2], [0,1,2,0,1,2], 4] = 1.0\n",
    "\n",
    "b_45_corner_top_right = -1000\n",
    "\n",
    "\n",
    "# Filter to detect a bottom left triangle corner\n",
    "W_45_corner_bottom_left = np.zeros((3, 3, 5)) # mostly irrelevant\n",
    "\n",
    "# vertical left edge (channel 0 of previous layer) exists\n",
    "# in upper-left corner of this 3 by 3 patch of previous layer's activations\n",
    "W_45_corner_bottom_left[[0,0,1,1], [0,1,0,1], 0] = 1.0\n",
    "\n",
    "# diagonal edge (channel 4 of previous layer) exists\n",
    "# in middle-to-right side of this 3 by 3 patch of previous layer's activations\n",
    "W_45_corner_bottom_left[[0,0,1,1,2,2], [1,2,1,2,1,2], 4] = 1.0\n",
    "\n",
    "b_45_corner_bottom_left = -1000\n",
    "\n",
    "\n",
    "all_W3 = [W_90_corner_top_left, W_90_corner_top_right,\n",
    "          W_90_corner_bottom_left, W_90_corner_bottom_right,\n",
    "          W_45_corner_top_right, W_45_corner_bottom_left]\n",
    "all_b3 = np.array([b_90_corner_top_left, b_90_corner_top_right,\n",
    "          b_90_corner_bottom_left, b_90_corner_bottom_right,\n",
    "          b_45_corner_top_right, b_45_corner_bottom_left]).reshape(1, 1, 6)"
   ]
  },
  {
   "cell_type": "markdown",
   "metadata": {
    "colab_type": "text",
    "id": "xQYJ0uql2KKD"
   },
   "source": [
    "Calculating the activation outputs:"
   ]
  },
  {
   "cell_type": "code",
   "execution_count": 0,
   "metadata": {
    "colab": {
     "base_uri": "https://localhost:8080/",
     "height": 52
    },
    "colab_type": "code",
    "id": "b0YW1wID2Mhj",
    "outputId": "cf3f1d59-1af9-4ff1-94c1-5e4e1c8a251c"
   },
   "outputs": [
    {
     "name": "stdout",
     "output_type": "stream",
     "text": [
      "shape = (8, 8, 6)\n",
      "shape = (8, 8, 6)\n"
     ]
    }
   ],
   "source": [
    "sq_z_no_b3 = do_convolutions(sq_a2, all_W3)\n",
    "sq_z3 = sq_z_no_b3 + all_b3\n",
    "sq_a3 = relu(sq_z3)\n",
    "print(\"shape = \" + str(sq_a3.shape))\n",
    "\n",
    "tri_z_no_b3 = do_convolutions(tri_a2, all_W3)\n",
    "tri_z3 = tri_z_no_b3 + all_b3\n",
    "tri_a3 = relu(tri_z3)\n",
    "print(\"shape = \" + str(tri_a3.shape))"
   ]
  },
  {
   "cell_type": "markdown",
   "metadata": {
    "colab_type": "text",
    "id": "bIz8CQfxo1bV"
   },
   "source": [
    "Here's a display of the filter outputs for the square image:"
   ]
  },
  {
   "cell_type": "code",
   "execution_count": 0,
   "metadata": {
    "colab": {
     "base_uri": "https://localhost:8080/",
     "height": 716
    },
    "colab_type": "code",
    "id": "0RVqJW6rNeC9",
    "outputId": "bba85500-1c2b-4b0c-a6ee-52ec6742f081"
   },
   "outputs": [
    {
     "name": "stdout",
     "output_type": "stream",
     "text": [
      "\n",
      "filter 0\n",
      "largest z value before adding b = 1800.0\n",
      "largest a value = 800.0\n",
      "\n",
      "filter 1\n",
      "largest z value before adding b = 1800.0\n",
      "largest a value = 800.0\n",
      "\n",
      "filter 2\n",
      "largest z value before adding b = 1800.0\n",
      "largest a value = 800.0\n",
      "\n",
      "filter 3\n",
      "largest z value before adding b = 1800.0\n",
      "largest a value = 800.0\n",
      "\n",
      "filter 4\n",
      "largest z value before adding b = 900.0\n",
      "largest a value = 0.0\n",
      "\n",
      "filter 5\n",
      "largest z value before adding b = 900.0\n",
      "largest a value = 0.0\n"
     ]
    },
    {
     "data": {
      "image/png": "[encoded data removed]",
      "text/plain": [
       "<Figure size 864x360 with 14 Axes>"
      ]
     },
     "metadata": {
      "tags": []
     },
     "output_type": "display_data"
    }
   ],
   "source": [
    "fig, axs = plt.subplots(2, 7, figsize=(12, 5))\n",
    "axs[0,0].imshow(sq[:, :, 0], cmap = \"gray\")\n",
    "axs[1,0].imshow(sq[:, :, 0], cmap = \"gray\")\n",
    "\n",
    "for i in range(6):\n",
    "  print(\"\\nfilter \" + str(i))\n",
    "  print(\"largest z value before adding b = \" + str(np.max(sq_z_no_b3[:,:,i])))\n",
    "  print(\"largest a value = \" + str(np.max(sq_a3[:,:,i])))\n",
    "\n",
    "  axs[0, i+1].imshow(sq_z_no_b3[:,:,i], cmap = \"gray\")\n",
    "  axs[0, i+1].set_title(\"z-b, filter \" + str(i))\n",
    "  axs[1, i+1].imshow(sq_a3[:,:,i], cmap = \"gray\")\n",
    "  axs[1, i+1].set_title(\"a, filter \" + str(i))"
   ]
  },
  {
   "cell_type": "code",
   "execution_count": 0,
   "metadata": {
    "colab": {
     "base_uri": "https://localhost:8080/",
     "height": 716
    },
    "colab_type": "code",
    "id": "hgraNXnK2zG8",
    "outputId": "00a0fe09-ff40-449a-b4d2-b7335c115407"
   },
   "outputs": [
    {
     "name": "stdout",
     "output_type": "stream",
     "text": [
      "\n",
      "filter 0\n",
      "largest z value before adding b = 1290.0\n",
      "largest a value = 290.0\n",
      "\n",
      "filter 1\n",
      "largest z value before adding b = 645.0\n",
      "largest a value = 0.0\n",
      "\n",
      "filter 2\n",
      "largest z value before adding b = 450.0\n",
      "largest a value = 0.0\n",
      "\n",
      "filter 3\n",
      "largest z value before adding b = 0.0\n",
      "largest a value = 0.0\n",
      "\n",
      "filter 4\n",
      "largest z value before adding b = 1800.0\n",
      "largest a value = 800.0\n",
      "\n",
      "filter 5\n",
      "largest z value before adding b = 1800.0\n",
      "largest a value = 800.0\n"
     ]
    },
    {
     "data": {
      "image/png": "[encoded data removed]",
      "text/plain": [
       "<Figure size 864x360 with 14 Axes>"
      ]
     },
     "metadata": {
      "tags": []
     },
     "output_type": "display_data"
    }
   ],
   "source": [
    "fig, axs = plt.subplots(2, 7, figsize=(12, 5))\n",
    "axs[0,0].imshow(tri[:, :, 0], cmap = \"gray\")\n",
    "axs[1,0].imshow(tri[:, :, 0], cmap = \"gray\")\n",
    "\n",
    "for i in range(6):\n",
    "  print(\"\\nfilter \" + str(i))\n",
    "  print(\"largest z value before adding b = \" + str(np.max(tri_z_no_b3[:,:,i])))\n",
    "  print(\"largest a value = \" + str(np.max(tri_a3[:,:,i])))\n",
    "\n",
    "  axs[0, i+1].imshow(tri_z_no_b3[:,:,i], cmap = \"gray\")\n",
    "  axs[0, i+1].set_title(\"z-b, filter \" + str(i))\n",
    "  axs[1, i+1].imshow(tri_a3[:,:,i], cmap = \"gray\")\n",
    "  axs[1, i+1].set_title(\"a, filter \" + str(i))"
   ]
  },
  {
   "cell_type": "markdown",
   "metadata": {
    "colab_type": "text",
    "id": "71T1sUhglm9t"
   },
   "source": [
    "## Output Layer: Fully Connected, Probability of Square"
   ]
  },
  {
   "cell_type": "code",
   "execution_count": 0,
   "metadata": {
    "colab": {
     "base_uri": "https://localhost:8080/",
     "height": 35
    },
    "colab_type": "code",
    "id": "1OS8JVlhSEQn",
    "outputId": "988a9849-b113-4cd3-e296-0540845e90b6"
   },
   "outputs": [
    {
     "name": "stdout",
     "output_type": "stream",
     "text": [
      "(384, 1)\n"
     ]
    }
   ],
   "source": [
    "W4 = np.concatenate(\n",
    "    (np.zeros((8,8,1)), # detection of upper left square corner irrelevant\n",
    "    np.ones((8,8,1)), # detection of upper right square corner indicates square\n",
    "    np.ones((8,8,1)), # detection of lower left square corner indicates square\n",
    "    np.ones((8,8,1)), # detection of lower right square corner indicates square\n",
    "    -1*np.ones((8,8,1)), # detection of upper left triangle corner indicates not square\n",
    "    -1*np.ones((8,8,1))), # detection of lower left triangle corner indicates not square\n",
    "    axis = 2\n",
    ").reshape(-1, 1)\n",
    "b4 = 0\n",
    "\n",
    "print(W4.shape)"
   ]
  },
  {
   "cell_type": "code",
   "execution_count": 0,
   "metadata": {
    "colab": {
     "base_uri": "https://localhost:8080/",
     "height": 52
    },
    "colab_type": "code",
    "id": "IkcY0ZIvNews",
    "outputId": "426e9ae5-d461-4f6c-ba15-1fdd219ea309"
   },
   "outputs": [
    {
     "name": "stdout",
     "output_type": "stream",
     "text": [
      "(384, 1)\n",
      "[[1.]]\n"
     ]
    }
   ],
   "source": [
    "sq_a3_vec = sq_a3.reshape(-1, 1)\n",
    "print(sq_a3_vec.shape)\n",
    "sq_a4 = sigmoid(b4 + np.dot(W4.T, sq_a3_vec))\n",
    "print(sq_a4)"
   ]
  },
  {
   "cell_type": "code",
   "execution_count": 0,
   "metadata": {
    "colab": {
     "base_uri": "https://localhost:8080/",
     "height": 35
    },
    "colab_type": "code",
    "id": "daylIBjr6AOw",
    "outputId": "fb3f6a03-74b7-45c9-a0f8-8db6b473b34f"
   },
   "outputs": [
    {
     "name": "stdout",
     "output_type": "stream",
     "text": [
      "[[0.]]\n"
     ]
    }
   ],
   "source": [
    "tri_a3_vec = tri_a3.reshape(-1, 1)\n",
    "tri_a4 = sigmoid(b4 + np.dot(W4.T, tri_a3_vec))\n",
    "print(tri_a4)"
   ]
  },
  {
   "cell_type": "markdown",
   "metadata": {
    "colab_type": "text",
    "id": "dvvR19fwL9lJ"
   },
   "source": [
    "## Function to predict from this model"
   ]
  },
  {
   "cell_type": "code",
   "execution_count": 0,
   "metadata": {
    "colab": {},
    "colab_type": "code",
    "id": "79m1EblBMBGx"
   },
   "outputs": [],
   "source": [
    "def predict_my_nn(X):\n",
    "  # layer 1\n",
    "  z1 = do_convolutions(X, all_W1) + all_b1\n",
    "  a1 = relu(z1)\n",
    "\n",
    "  # layer2\n",
    "  a2 = max_pool(a1, 2)\n",
    "\n",
    "  # layer 3\n",
    "  z3 = do_convolutions(a2, all_W3) + all_b3\n",
    "  a3 = relu(z3)\n",
    "\n",
    "  # layer 4\n",
    "  a3_vec = a3.reshape(-1, 1)\n",
    "  a4 = sigmoid(b4 + np.dot(W4.T, a3_vec))\n",
    "\n",
    "  return(a4)"
   ]
  },
  {
   "cell_type": "markdown",
   "metadata": {
    "colab_type": "text",
    "id": "RTCqatDT87RJ"
   },
   "source": [
    "# Model in Keras\n",
    "## Generate a bunch of images\n",
    "\n",
    "Let's make a training data set with 50 images of squares and 50 images of triangles."
   ]
  },
  {
   "cell_type": "code",
   "execution_count": 0,
   "metadata": {
    "colab": {
     "base_uri": "https://localhost:8080/",
     "height": 52
    },
    "colab_type": "code",
    "id": "OOgCjgZZ8a8W",
    "outputId": "9e42e02a-7e63-4afc-ea35-5828c9964b19"
   },
   "outputs": [
    {
     "name": "stdout",
     "output_type": "stream",
     "text": [
      "(100, 24, 24, 1)\n",
      "(100, 1)\n"
     ]
    }
   ],
   "source": [
    "np.random.seed(5434)\n",
    "(train_x, train_y) = sim_data(n = 50, img_dim = 24, radius = 3)\n",
    "(val_x, val_y) = sim_data(n = 50, img_dim = 24, radius = 3)\n",
    "print(train_x.shape)\n",
    "print(train_y.shape)"
   ]
  },
  {
   "cell_type": "markdown",
   "metadata": {
    "colab_type": "text",
    "id": "oxSlTO_BKJdE"
   },
   "source": [
    "For estimation to work, we need to standardize the data.  For image data, the most common way to do this is to just divide everything by 255 to values between 0 and 1."
   ]
  },
  {
   "cell_type": "code",
   "execution_count": 0,
   "metadata": {
    "colab": {},
    "colab_type": "code",
    "id": "94gwK0S-KZ-A"
   },
   "outputs": [],
   "source": [
    "train_x_scaled = train_x.astype(float) / 255\n",
    "val_x_scaled = val_x.astype(float) / 255"
   ]
  },
  {
   "cell_type": "markdown",
   "metadata": {
    "colab_type": "text",
    "id": "9eaeJTWyaJoj"
   },
   "source": [
    "### First Keras Model\n",
    "Exactly the same structure as our hand-made model above."
   ]
  },
  {
   "cell_type": "code",
   "execution_count": 0,
   "metadata": {
    "colab": {
     "base_uri": "https://localhost:8080/",
     "height": 1000
    },
    "colab_type": "code",
    "id": "zhKbvO1-aQ57",
    "outputId": "151b23f9-f398-4bb1-dd0a-a224cb1436c2"
   },
   "outputs": [
    {
     "name": "stdout",
     "output_type": "stream",
     "text": [
      "Train on 100 samples, validate on 100 samples\n",
      "Epoch 1/250\n",
      "100/100 [==============================] - 0s 5ms/step - loss: 0.6937 - acc: 0.4800 - val_loss: 0.6880 - val_acc: 0.5200\n",
      "Epoch 2/250\n",
      "100/100 [==============================] - 0s 510us/step - loss: 0.6925 - acc: 0.5100 - val_loss: 0.6876 - val_acc: 0.5700\n",
      "Epoch 3/250\n",
      "100/100 [==============================] - 0s 407us/step - loss: 0.6914 - acc: 0.5400 - val_loss: 0.6873 - val_acc: 0.6000\n",
      "Epoch 4/250\n",
      "100/100 [==============================] - 0s 384us/step - loss: 0.6903 - acc: 0.5700 - val_loss: 0.6869 - val_acc: 0.6200\n",
      "Epoch 5/250\n",
      "100/100 [==============================] - 0s 400us/step - loss: 0.6893 - acc: 0.6000 - val_loss: 0.6865 - val_acc: 0.6000\n",
      "Epoch 6/250\n",
      "100/100 [==============================] - 0s 439us/step - loss: 0.6881 - acc: 0.6100 - val_loss: 0.6861 - val_acc: 0.6000\n",
      "Epoch 7/250\n",
      "100/100 [==============================] - 0s 417us/step - loss: 0.6869 - acc: 0.6000 - val_loss: 0.6857 - val_acc: 0.6000\n",
      "Epoch 8/250\n",
      "100/100 [==============================] - 0s 408us/step - loss: 0.6855 - acc: 0.6000 - val_loss: 0.6852 - val_acc: 0.6200\n",
      "Epoch 9/250\n",
      "100/100 [==============================] - 0s 438us/step - loss: 0.6841 - acc: 0.6100 - val_loss: 0.6849 - val_acc: 0.6600\n",
      "Epoch 10/250\n",
      "100/100 [==============================] - 0s 412us/step - loss: 0.6829 - acc: 0.6400 - val_loss: 0.6846 - val_acc: 0.6600\n",
      "Epoch 11/250\n",
      "100/100 [==============================] - 0s 421us/step - loss: 0.6815 - acc: 0.6600 - val_loss: 0.6842 - val_acc: 0.6600\n",
      "Epoch 12/250\n",
      "100/100 [==============================] - 0s 552us/step - loss: 0.6801 - acc: 0.6500 - val_loss: 0.6838 - val_acc: 0.6400\n",
      "Epoch 13/250\n",
      "100/100 [==============================] - 0s 437us/step - loss: 0.6787 - acc: 0.7300 - val_loss: 0.6833 - val_acc: 0.6000\n",
      "Epoch 14/250\n",
      "100/100 [==============================] - 0s 440us/step - loss: 0.6771 - acc: 0.7300 - val_loss: 0.6829 - val_acc: 0.5900\n",
      "Epoch 15/250\n",
      "100/100 [==============================] - 0s 441us/step - loss: 0.6755 - acc: 0.7500 - val_loss: 0.6825 - val_acc: 0.5800\n",
      "Epoch 16/250\n",
      "100/100 [==============================] - 0s 416us/step - loss: 0.6739 - acc: 0.7700 - val_loss: 0.6821 - val_acc: 0.5900\n",
      "Epoch 17/250\n",
      "100/100 [==============================] - 0s 406us/step - loss: 0.6722 - acc: 0.7700 - val_loss: 0.6816 - val_acc: 0.5800\n",
      "Epoch 18/250\n",
      "100/100 [==============================] - 0s 629us/step - loss: 0.6704 - acc: 0.7800 - val_loss: 0.6809 - val_acc: 0.5900\n",
      "Epoch 19/250\n",
      "100/100 [==============================] - 0s 562us/step - loss: 0.6686 - acc: 0.7700 - val_loss: 0.6801 - val_acc: 0.5800\n",
      "Epoch 20/250\n",
      "100/100 [==============================] - 0s 432us/step - loss: 0.6667 - acc: 0.7800 - val_loss: 0.6792 - val_acc: 0.5800\n",
      "Epoch 21/250\n",
      "100/100 [==============================] - 0s 442us/step - loss: 0.6647 - acc: 0.7900 - val_loss: 0.6783 - val_acc: 0.5800\n",
      "Epoch 22/250\n",
      "100/100 [==============================] - 0s 375us/step - loss: 0.6627 - acc: 0.7900 - val_loss: 0.6772 - val_acc: 0.5500\n",
      "Epoch 23/250\n",
      "100/100 [==============================] - 0s 405us/step - loss: 0.6605 - acc: 0.8000 - val_loss: 0.6760 - val_acc: 0.5600\n",
      "Epoch 24/250\n",
      "100/100 [==============================] - 0s 418us/step - loss: 0.6583 - acc: 0.7900 - val_loss: 0.6748 - val_acc: 0.5600\n",
      "Epoch 25/250\n",
      "100/100 [==============================] - 0s 413us/step - loss: 0.6561 - acc: 0.7800 - val_loss: 0.6736 - val_acc: 0.5600\n",
      "Epoch 26/250\n",
      "100/100 [==============================] - 0s 434us/step - loss: 0.6537 - acc: 0.7900 - val_loss: 0.6723 - val_acc: 0.5600\n",
      "Epoch 27/250\n",
      "100/100 [==============================] - 0s 406us/step - loss: 0.6512 - acc: 0.7800 - val_loss: 0.6709 - val_acc: 0.5800\n",
      "Epoch 28/250\n",
      "100/100 [==============================] - 0s 424us/step - loss: 0.6485 - acc: 0.7900 - val_loss: 0.6691 - val_acc: 0.5800\n",
      "Epoch 29/250\n",
      "100/100 [==============================] - 0s 411us/step - loss: 0.6458 - acc: 0.7900 - val_loss: 0.6673 - val_acc: 0.5600\n",
      "Epoch 30/250\n",
      "100/100 [==============================] - 0s 419us/step - loss: 0.6430 - acc: 0.7800 - val_loss: 0.6656 - val_acc: 0.5800\n",
      "Epoch 31/250\n",
      "100/100 [==============================] - 0s 393us/step - loss: 0.6401 - acc: 0.7800 - val_loss: 0.6639 - val_acc: 0.5600\n",
      "Epoch 32/250\n",
      "100/100 [==============================] - 0s 446us/step - loss: 0.6372 - acc: 0.7600 - val_loss: 0.6624 - val_acc: 0.5700\n",
      "Epoch 33/250\n",
      "100/100 [==============================] - 0s 440us/step - loss: 0.6342 - acc: 0.7600 - val_loss: 0.6609 - val_acc: 0.5700\n",
      "Epoch 34/250\n",
      "100/100 [==============================] - 0s 418us/step - loss: 0.6311 - acc: 0.7800 - val_loss: 0.6594 - val_acc: 0.6000\n",
      "Epoch 35/250\n",
      "100/100 [==============================] - 0s 407us/step - loss: 0.6279 - acc: 0.7800 - val_loss: 0.6579 - val_acc: 0.5900\n",
      "Epoch 36/250\n",
      "100/100 [==============================] - 0s 418us/step - loss: 0.6246 - acc: 0.7800 - val_loss: 0.6564 - val_acc: 0.6100\n",
      "Epoch 37/250\n",
      "100/100 [==============================] - 0s 443us/step - loss: 0.6211 - acc: 0.7800 - val_loss: 0.6549 - val_acc: 0.6000\n",
      "Epoch 38/250\n",
      "100/100 [==============================] - 0s 412us/step - loss: 0.6176 - acc: 0.7700 - val_loss: 0.6534 - val_acc: 0.6000\n",
      "Epoch 39/250\n",
      "100/100 [==============================] - 0s 432us/step - loss: 0.6142 - acc: 0.7700 - val_loss: 0.6517 - val_acc: 0.6100\n",
      "Epoch 40/250\n",
      "100/100 [==============================] - 0s 472us/step - loss: 0.6106 - acc: 0.7800 - val_loss: 0.6501 - val_acc: 0.6300\n",
      "Epoch 41/250\n",
      "100/100 [==============================] - 0s 408us/step - loss: 0.6070 - acc: 0.7800 - val_loss: 0.6486 - val_acc: 0.6300\n",
      "Epoch 42/250\n",
      "100/100 [==============================] - 0s 405us/step - loss: 0.6034 - acc: 0.7800 - val_loss: 0.6471 - val_acc: 0.6100\n",
      "Epoch 43/250\n",
      "100/100 [==============================] - 0s 435us/step - loss: 0.5998 - acc: 0.7800 - val_loss: 0.6455 - val_acc: 0.6300\n",
      "Epoch 44/250\n",
      "100/100 [==============================] - 0s 447us/step - loss: 0.5961 - acc: 0.7800 - val_loss: 0.6438 - val_acc: 0.6200\n",
      "Epoch 45/250\n",
      "100/100 [==============================] - 0s 410us/step - loss: 0.5923 - acc: 0.7800 - val_loss: 0.6422 - val_acc: 0.6200\n",
      "Epoch 46/250\n",
      "100/100 [==============================] - 0s 437us/step - loss: 0.5885 - acc: 0.7800 - val_loss: 0.6407 - val_acc: 0.6200\n",
      "Epoch 47/250\n",
      "100/100 [==============================] - 0s 420us/step - loss: 0.5847 - acc: 0.7800 - val_loss: 0.6391 - val_acc: 0.6100\n",
      "Epoch 48/250\n",
      "100/100 [==============================] - 0s 413us/step - loss: 0.5809 - acc: 0.7800 - val_loss: 0.6375 - val_acc: 0.6100\n",
      "Epoch 49/250\n",
      "100/100 [==============================] - 0s 409us/step - loss: 0.5771 - acc: 0.7800 - val_loss: 0.6360 - val_acc: 0.6100\n",
      "Epoch 50/250\n",
      "100/100 [==============================] - 0s 414us/step - loss: 0.5732 - acc: 0.7800 - val_loss: 0.6343 - val_acc: 0.6000\n",
      "Epoch 51/250\n",
      "100/100 [==============================] - 0s 434us/step - loss: 0.5693 - acc: 0.7800 - val_loss: 0.6326 - val_acc: 0.6000\n",
      "Epoch 52/250\n",
      "100/100 [==============================] - 0s 393us/step - loss: 0.5653 - acc: 0.7900 - val_loss: 0.6311 - val_acc: 0.6100\n",
      "Epoch 53/250\n",
      "100/100 [==============================] - 0s 427us/step - loss: 0.5612 - acc: 0.7800 - val_loss: 0.6296 - val_acc: 0.6100\n",
      "Epoch 54/250\n",
      "100/100 [==============================] - 0s 403us/step - loss: 0.5572 - acc: 0.7800 - val_loss: 0.6279 - val_acc: 0.6100\n",
      "Epoch 55/250\n",
      "100/100 [==============================] - 0s 389us/step - loss: 0.5531 - acc: 0.7900 - val_loss: 0.6264 - val_acc: 0.6000\n",
      "Epoch 56/250\n",
      "100/100 [==============================] - 0s 370us/step - loss: 0.5490 - acc: 0.7900 - val_loss: 0.6249 - val_acc: 0.6100\n",
      "Epoch 57/250\n",
      "100/100 [==============================] - 0s 391us/step - loss: 0.5449 - acc: 0.7800 - val_loss: 0.6230 - val_acc: 0.6000\n",
      "Epoch 58/250\n",
      "100/100 [==============================] - 0s 382us/step - loss: 0.5407 - acc: 0.7900 - val_loss: 0.6211 - val_acc: 0.6100\n",
      "Epoch 59/250\n",
      "100/100 [==============================] - 0s 399us/step - loss: 0.5364 - acc: 0.7900 - val_loss: 0.6196 - val_acc: 0.6100\n",
      "Epoch 60/250\n",
      "100/100 [==============================] - 0s 407us/step - loss: 0.5322 - acc: 0.7900 - val_loss: 0.6173 - val_acc: 0.6100\n",
      "Epoch 61/250\n",
      "100/100 [==============================] - 0s 470us/step - loss: 0.5278 - acc: 0.7900 - val_loss: 0.6152 - val_acc: 0.6100\n",
      "Epoch 62/250\n",
      "100/100 [==============================] - 0s 406us/step - loss: 0.5234 - acc: 0.7900 - val_loss: 0.6132 - val_acc: 0.6100\n",
      "Epoch 63/250\n",
      "100/100 [==============================] - 0s 392us/step - loss: 0.5188 - acc: 0.7900 - val_loss: 0.6112 - val_acc: 0.6100\n",
      "Epoch 64/250\n",
      "100/100 [==============================] - 0s 386us/step - loss: 0.5144 - acc: 0.8100 - val_loss: 0.6087 - val_acc: 0.6100\n",
      "Epoch 65/250\n",
      "100/100 [==============================] - 0s 431us/step - loss: 0.5100 - acc: 0.8000 - val_loss: 0.6063 - val_acc: 0.6100\n",
      "Epoch 66/250\n",
      "100/100 [==============================] - 0s 378us/step - loss: 0.5056 - acc: 0.8000 - val_loss: 0.6044 - val_acc: 0.6100\n",
      "Epoch 67/250\n",
      "100/100 [==============================] - 0s 361us/step - loss: 0.5010 - acc: 0.8100 - val_loss: 0.6023 - val_acc: 0.6200\n",
      "Epoch 68/250\n",
      "100/100 [==============================] - 0s 444us/step - loss: 0.4965 - acc: 0.8100 - val_loss: 0.5997 - val_acc: 0.6100\n",
      "Epoch 69/250\n",
      "100/100 [==============================] - 0s 400us/step - loss: 0.4918 - acc: 0.8100 - val_loss: 0.5970 - val_acc: 0.6100\n",
      "Epoch 70/250\n",
      "100/100 [==============================] - 0s 426us/step - loss: 0.4871 - acc: 0.8100 - val_loss: 0.5949 - val_acc: 0.6200\n",
      "Epoch 71/250\n",
      "100/100 [==============================] - 0s 393us/step - loss: 0.4824 - acc: 0.8300 - val_loss: 0.5925 - val_acc: 0.6200\n",
      "Epoch 72/250\n",
      "100/100 [==============================] - 0s 450us/step - loss: 0.4777 - acc: 0.8300 - val_loss: 0.5894 - val_acc: 0.6200\n",
      "Epoch 73/250\n",
      "100/100 [==============================] - 0s 408us/step - loss: 0.4729 - acc: 0.8300 - val_loss: 0.5870 - val_acc: 0.6400\n",
      "Epoch 74/250\n",
      "100/100 [==============================] - 0s 391us/step - loss: 0.4681 - acc: 0.8400 - val_loss: 0.5845 - val_acc: 0.6400\n",
      "Epoch 75/250\n",
      "100/100 [==============================] - 0s 404us/step - loss: 0.4632 - acc: 0.8400 - val_loss: 0.5812 - val_acc: 0.6300\n",
      "Epoch 76/250\n",
      "100/100 [==============================] - 0s 392us/step - loss: 0.4583 - acc: 0.8400 - val_loss: 0.5787 - val_acc: 0.6400\n",
      "Epoch 77/250\n",
      "100/100 [==============================] - 0s 437us/step - loss: 0.4534 - acc: 0.8400 - val_loss: 0.5756 - val_acc: 0.6300\n",
      "Epoch 78/250\n",
      "100/100 [==============================] - 0s 393us/step - loss: 0.4484 - acc: 0.8400 - val_loss: 0.5728 - val_acc: 0.6300\n",
      "Epoch 79/250\n",
      "100/100 [==============================] - 0s 421us/step - loss: 0.4433 - acc: 0.8400 - val_loss: 0.5701 - val_acc: 0.6300\n",
      "Epoch 80/250\n",
      "100/100 [==============================] - 0s 419us/step - loss: 0.4382 - acc: 0.8400 - val_loss: 0.5667 - val_acc: 0.6500\n",
      "Epoch 81/250\n",
      "100/100 [==============================] - 0s 402us/step - loss: 0.4331 - acc: 0.8500 - val_loss: 0.5642 - val_acc: 0.6400\n",
      "Epoch 82/250\n",
      "100/100 [==============================] - 0s 416us/step - loss: 0.4280 - acc: 0.8400 - val_loss: 0.5602 - val_acc: 0.6800\n",
      "Epoch 83/250\n",
      "100/100 [==============================] - 0s 389us/step - loss: 0.4229 - acc: 0.8700 - val_loss: 0.5577 - val_acc: 0.6600\n",
      "Epoch 84/250\n",
      "100/100 [==============================] - 0s 413us/step - loss: 0.4177 - acc: 0.8700 - val_loss: 0.5543 - val_acc: 0.6800\n",
      "Epoch 85/250\n",
      "100/100 [==============================] - 0s 447us/step - loss: 0.4125 - acc: 0.8700 - val_loss: 0.5508 - val_acc: 0.7000\n",
      "Epoch 86/250\n",
      "100/100 [==============================] - 0s 447us/step - loss: 0.4073 - acc: 0.8700 - val_loss: 0.5482 - val_acc: 0.7200\n",
      "Epoch 87/250\n",
      "100/100 [==============================] - 0s 426us/step - loss: 0.4020 - acc: 0.8800 - val_loss: 0.5436 - val_acc: 0.7100\n",
      "Epoch 88/250\n",
      "100/100 [==============================] - 0s 413us/step - loss: 0.3968 - acc: 0.8800 - val_loss: 0.5413 - val_acc: 0.7600\n",
      "Epoch 89/250\n",
      "100/100 [==============================] - 0s 448us/step - loss: 0.3915 - acc: 0.8800 - val_loss: 0.5369 - val_acc: 0.7400\n",
      "Epoch 90/250\n",
      "100/100 [==============================] - 0s 399us/step - loss: 0.3861 - acc: 0.8900 - val_loss: 0.5332 - val_acc: 0.7400\n",
      "Epoch 91/250\n",
      "100/100 [==============================] - 0s 403us/step - loss: 0.3809 - acc: 0.8900 - val_loss: 0.5303 - val_acc: 0.7600\n",
      "Epoch 92/250\n",
      "100/100 [==============================] - 0s 409us/step - loss: 0.3756 - acc: 0.8800 - val_loss: 0.5252 - val_acc: 0.7500\n",
      "Epoch 93/250\n",
      "100/100 [==============================] - 0s 493us/step - loss: 0.3703 - acc: 0.8900 - val_loss: 0.5227 - val_acc: 0.7600\n",
      "Epoch 94/250\n",
      "100/100 [==============================] - 0s 439us/step - loss: 0.3650 - acc: 0.8900 - val_loss: 0.5177 - val_acc: 0.7500\n",
      "Epoch 95/250\n",
      "100/100 [==============================] - 0s 435us/step - loss: 0.3596 - acc: 0.8900 - val_loss: 0.5136 - val_acc: 0.7500\n",
      "Epoch 96/250\n",
      "100/100 [==============================] - 0s 394us/step - loss: 0.3543 - acc: 0.8900 - val_loss: 0.5105 - val_acc: 0.7600\n",
      "Epoch 97/250\n",
      "100/100 [==============================] - 0s 401us/step - loss: 0.3491 - acc: 0.8900 - val_loss: 0.5054 - val_acc: 0.7500\n",
      "Epoch 98/250\n",
      "100/100 [==============================] - 0s 434us/step - loss: 0.3439 - acc: 0.8900 - val_loss: 0.5028 - val_acc: 0.7600\n",
      "Epoch 99/250\n",
      "100/100 [==============================] - 0s 410us/step - loss: 0.3387 - acc: 0.9100 - val_loss: 0.4976 - val_acc: 0.7500\n",
      "Epoch 100/250\n",
      "100/100 [==============================] - 0s 401us/step - loss: 0.3334 - acc: 0.8900 - val_loss: 0.4954 - val_acc: 0.7600\n",
      "Epoch 101/250\n",
      "100/100 [==============================] - 0s 433us/step - loss: 0.3283 - acc: 0.9100 - val_loss: 0.4899 - val_acc: 0.7600\n",
      "Epoch 102/250\n",
      "100/100 [==============================] - 0s 425us/step - loss: 0.3232 - acc: 0.9000 - val_loss: 0.4883 - val_acc: 0.7600\n",
      "Epoch 103/250\n",
      "100/100 [==============================] - 0s 391us/step - loss: 0.3183 - acc: 0.9100 - val_loss: 0.4825 - val_acc: 0.7600\n",
      "Epoch 104/250\n",
      "100/100 [==============================] - 0s 517us/step - loss: 0.3131 - acc: 0.9200 - val_loss: 0.4795 - val_acc: 0.7700\n",
      "Epoch 105/250\n",
      "100/100 [==============================] - 0s 464us/step - loss: 0.3081 - acc: 0.9200 - val_loss: 0.4750 - val_acc: 0.7700\n",
      "Epoch 106/250\n",
      "100/100 [==============================] - 0s 451us/step - loss: 0.3031 - acc: 0.9200 - val_loss: 0.4706 - val_acc: 0.7700\n",
      "Epoch 107/250\n",
      "100/100 [==============================] - 0s 437us/step - loss: 0.2983 - acc: 0.9400 - val_loss: 0.4677 - val_acc: 0.7700\n",
      "Epoch 108/250\n",
      "100/100 [==============================] - 0s 407us/step - loss: 0.2935 - acc: 0.9300 - val_loss: 0.4622 - val_acc: 0.7700\n",
      "Epoch 109/250\n",
      "100/100 [==============================] - 0s 438us/step - loss: 0.2888 - acc: 0.9500 - val_loss: 0.4604 - val_acc: 0.7700\n",
      "Epoch 110/250\n",
      "100/100 [==============================] - 0s 412us/step - loss: 0.2841 - acc: 0.9400 - val_loss: 0.4543 - val_acc: 0.7700\n",
      "Epoch 111/250\n",
      "100/100 [==============================] - 0s 408us/step - loss: 0.2794 - acc: 0.9500 - val_loss: 0.4521 - val_acc: 0.7700\n",
      "Epoch 112/250\n",
      "100/100 [==============================] - 0s 403us/step - loss: 0.2745 - acc: 0.9500 - val_loss: 0.4472 - val_acc: 0.7700\n",
      "Epoch 113/250\n",
      "100/100 [==============================] - 0s 450us/step - loss: 0.2699 - acc: 0.9500 - val_loss: 0.4437 - val_acc: 0.7800\n",
      "Epoch 114/250\n",
      "100/100 [==============================] - 0s 442us/step - loss: 0.2653 - acc: 0.9500 - val_loss: 0.4401 - val_acc: 0.7800\n",
      "Epoch 115/250\n",
      "100/100 [==============================] - 0s 409us/step - loss: 0.2608 - acc: 0.9500 - val_loss: 0.4348 - val_acc: 0.7700\n",
      "Epoch 116/250\n",
      "100/100 [==============================] - 0s 456us/step - loss: 0.2565 - acc: 0.9500 - val_loss: 0.4331 - val_acc: 0.7900\n",
      "Epoch 117/250\n",
      "100/100 [==============================] - 0s 412us/step - loss: 0.2522 - acc: 0.9600 - val_loss: 0.4265 - val_acc: 0.7800\n",
      "Epoch 118/250\n",
      "100/100 [==============================] - 0s 408us/step - loss: 0.2480 - acc: 0.9600 - val_loss: 0.4251 - val_acc: 0.8000\n",
      "Epoch 119/250\n",
      "100/100 [==============================] - 0s 442us/step - loss: 0.2436 - acc: 0.9600 - val_loss: 0.4191 - val_acc: 0.7800\n",
      "Epoch 120/250\n",
      "100/100 [==============================] - 0s 428us/step - loss: 0.2392 - acc: 0.9600 - val_loss: 0.4161 - val_acc: 0.7900\n",
      "Epoch 121/250\n",
      "100/100 [==============================] - 0s 449us/step - loss: 0.2350 - acc: 0.9700 - val_loss: 0.4134 - val_acc: 0.8100\n",
      "Epoch 122/250\n",
      "100/100 [==============================] - 0s 404us/step - loss: 0.2311 - acc: 0.9700 - val_loss: 0.4072 - val_acc: 0.7900\n",
      "Epoch 123/250\n",
      "100/100 [==============================] - 0s 453us/step - loss: 0.2272 - acc: 0.9800 - val_loss: 0.4058 - val_acc: 0.8100\n",
      "Epoch 124/250\n",
      "100/100 [==============================] - 0s 442us/step - loss: 0.2233 - acc: 0.9700 - val_loss: 0.3994 - val_acc: 0.8000\n",
      "Epoch 125/250\n",
      "100/100 [==============================] - 0s 411us/step - loss: 0.2192 - acc: 0.9800 - val_loss: 0.3963 - val_acc: 0.8200\n",
      "Epoch 126/250\n",
      "100/100 [==============================] - 0s 383us/step - loss: 0.2154 - acc: 0.9800 - val_loss: 0.3933 - val_acc: 0.8200\n",
      "Epoch 127/250\n",
      "100/100 [==============================] - 0s 423us/step - loss: 0.2117 - acc: 0.9800 - val_loss: 0.3880 - val_acc: 0.8200\n",
      "Epoch 128/250\n",
      "100/100 [==============================] - 0s 397us/step - loss: 0.2081 - acc: 0.9900 - val_loss: 0.3865 - val_acc: 0.8300\n",
      "Epoch 129/250\n",
      "100/100 [==============================] - 0s 396us/step - loss: 0.2044 - acc: 0.9800 - val_loss: 0.3811 - val_acc: 0.8400\n",
      "Epoch 130/250\n",
      "100/100 [==============================] - 0s 395us/step - loss: 0.2008 - acc: 0.9900 - val_loss: 0.3777 - val_acc: 0.8400\n",
      "Epoch 131/250\n",
      "100/100 [==============================] - 0s 357us/step - loss: 0.1973 - acc: 0.9900 - val_loss: 0.3753 - val_acc: 0.8600\n",
      "Epoch 132/250\n",
      "100/100 [==============================] - 0s 367us/step - loss: 0.1939 - acc: 0.9800 - val_loss: 0.3699 - val_acc: 0.8500\n",
      "Epoch 133/250\n",
      "100/100 [==============================] - 0s 391us/step - loss: 0.1905 - acc: 0.9900 - val_loss: 0.3682 - val_acc: 0.8700\n",
      "Epoch 134/250\n",
      "100/100 [==============================] - 0s 406us/step - loss: 0.1871 - acc: 0.9900 - val_loss: 0.3631 - val_acc: 0.8700\n",
      "Epoch 135/250\n",
      "100/100 [==============================] - 0s 430us/step - loss: 0.1838 - acc: 0.9900 - val_loss: 0.3596 - val_acc: 0.8700\n",
      "Epoch 136/250\n",
      "100/100 [==============================] - 0s 409us/step - loss: 0.1805 - acc: 0.9900 - val_loss: 0.3572 - val_acc: 0.8700\n",
      "Epoch 137/250\n",
      "100/100 [==============================] - 0s 432us/step - loss: 0.1774 - acc: 0.9900 - val_loss: 0.3520 - val_acc: 0.8800\n",
      "Epoch 138/250\n",
      "100/100 [==============================] - 0s 432us/step - loss: 0.1743 - acc: 0.9900 - val_loss: 0.3510 - val_acc: 0.8700\n",
      "Epoch 139/250\n",
      "100/100 [==============================] - 0s 405us/step - loss: 0.1712 - acc: 0.9900 - val_loss: 0.3454 - val_acc: 0.8800\n",
      "Epoch 140/250\n",
      "100/100 [==============================] - 0s 418us/step - loss: 0.1681 - acc: 0.9900 - val_loss: 0.3435 - val_acc: 0.8700\n",
      "Epoch 141/250\n",
      "100/100 [==============================] - 0s 497us/step - loss: 0.1649 - acc: 0.9900 - val_loss: 0.3393 - val_acc: 0.8800\n",
      "Epoch 142/250\n",
      "100/100 [==============================] - 0s 414us/step - loss: 0.1619 - acc: 0.9900 - val_loss: 0.3353 - val_acc: 0.8800\n",
      "Epoch 143/250\n",
      "100/100 [==============================] - 0s 430us/step - loss: 0.1589 - acc: 0.9900 - val_loss: 0.3325 - val_acc: 0.8900\n",
      "Epoch 144/250\n",
      "100/100 [==============================] - 0s 512us/step - loss: 0.1561 - acc: 0.9900 - val_loss: 0.3278 - val_acc: 0.9100\n",
      "Epoch 145/250\n",
      "100/100 [==============================] - 0s 391us/step - loss: 0.1533 - acc: 0.9900 - val_loss: 0.3260 - val_acc: 0.9000\n",
      "Epoch 146/250\n",
      "100/100 [==============================] - 0s 424us/step - loss: 0.1505 - acc: 0.9900 - val_loss: 0.3243 - val_acc: 0.8900\n",
      "Epoch 147/250\n",
      "100/100 [==============================] - 0s 421us/step - loss: 0.1482 - acc: 0.9900 - val_loss: 0.3195 - val_acc: 0.8900\n",
      "Epoch 148/250\n",
      "100/100 [==============================] - 0s 437us/step - loss: 0.1518 - acc: 0.9900 - val_loss: 0.3348 - val_acc: 0.8700\n",
      "Epoch 149/250\n",
      "100/100 [==============================] - 0s 432us/step - loss: 0.1494 - acc: 0.9900 - val_loss: 0.3192 - val_acc: 0.8800\n",
      "Epoch 150/250\n",
      "100/100 [==============================] - 0s 487us/step - loss: 0.1415 - acc: 0.9900 - val_loss: 0.3118 - val_acc: 0.9200\n",
      "Epoch 151/250\n",
      "100/100 [==============================] - 0s 437us/step - loss: 0.1446 - acc: 0.9900 - val_loss: 0.3080 - val_acc: 0.9200\n",
      "Epoch 152/250\n",
      "100/100 [==============================] - 0s 432us/step - loss: 0.1366 - acc: 0.9900 - val_loss: 0.3222 - val_acc: 0.8800\n",
      "Epoch 153/250\n",
      "100/100 [==============================] - 0s 402us/step - loss: 0.1392 - acc: 0.9900 - val_loss: 0.3085 - val_acc: 0.9000\n",
      "Epoch 154/250\n",
      "100/100 [==============================] - 0s 399us/step - loss: 0.1329 - acc: 0.9900 - val_loss: 0.3004 - val_acc: 0.9000\n",
      "Epoch 155/250\n",
      "100/100 [==============================] - 0s 428us/step - loss: 0.1338 - acc: 0.9900 - val_loss: 0.2977 - val_acc: 0.9200\n",
      "Epoch 156/250\n",
      "100/100 [==============================] - 0s 412us/step - loss: 0.1294 - acc: 0.9900 - val_loss: 0.3067 - val_acc: 0.8900\n",
      "Epoch 157/250\n",
      "100/100 [==============================] - 0s 427us/step - loss: 0.1288 - acc: 0.9900 - val_loss: 0.3001 - val_acc: 0.9000\n",
      "Epoch 158/250\n",
      "100/100 [==============================] - 0s 411us/step - loss: 0.1256 - acc: 0.9900 - val_loss: 0.2921 - val_acc: 0.9300\n",
      "Epoch 159/250\n",
      "100/100 [==============================] - 0s 429us/step - loss: 0.1244 - acc: 0.9900 - val_loss: 0.2905 - val_acc: 0.9300\n",
      "Epoch 160/250\n",
      "100/100 [==============================] - 0s 441us/step - loss: 0.1230 - acc: 0.9900 - val_loss: 0.2937 - val_acc: 0.9100\n",
      "Epoch 161/250\n",
      "100/100 [==============================] - 0s 413us/step - loss: 0.1206 - acc: 0.9900 - val_loss: 0.2960 - val_acc: 0.9000\n",
      "Epoch 162/250\n",
      "100/100 [==============================] - 0s 413us/step - loss: 0.1201 - acc: 0.9900 - val_loss: 0.2877 - val_acc: 0.9200\n",
      "Epoch 163/250\n",
      "100/100 [==============================] - 0s 470us/step - loss: 0.1173 - acc: 0.9900 - val_loss: 0.2825 - val_acc: 0.9300\n",
      "Epoch 164/250\n",
      "100/100 [==============================] - 0s 460us/step - loss: 0.1167 - acc: 0.9900 - val_loss: 0.2814 - val_acc: 0.9300\n",
      "Epoch 165/250\n",
      "100/100 [==============================] - 0s 408us/step - loss: 0.1142 - acc: 0.9900 - val_loss: 0.2844 - val_acc: 0.9100\n",
      "Epoch 166/250\n",
      "100/100 [==============================] - 0s 427us/step - loss: 0.1129 - acc: 0.9900 - val_loss: 0.2820 - val_acc: 0.9200\n",
      "Epoch 167/250\n",
      "100/100 [==============================] - 0s 397us/step - loss: 0.1112 - acc: 0.9900 - val_loss: 0.2750 - val_acc: 0.9300\n",
      "Epoch 168/250\n",
      "100/100 [==============================] - 0s 407us/step - loss: 0.1093 - acc: 0.9900 - val_loss: 0.2716 - val_acc: 0.9400\n",
      "Epoch 169/250\n",
      "100/100 [==============================] - 0s 391us/step - loss: 0.1082 - acc: 0.9900 - val_loss: 0.2715 - val_acc: 0.9300\n",
      "Epoch 170/250\n",
      "100/100 [==============================] - 0s 415us/step - loss: 0.1061 - acc: 0.9900 - val_loss: 0.2729 - val_acc: 0.9200\n",
      "Epoch 171/250\n",
      "100/100 [==============================] - 0s 437us/step - loss: 0.1050 - acc: 0.9900 - val_loss: 0.2687 - val_acc: 0.9200\n",
      "Epoch 172/250\n",
      "100/100 [==============================] - 0s 403us/step - loss: 0.1031 - acc: 0.9900 - val_loss: 0.2639 - val_acc: 0.9400\n",
      "Epoch 173/250\n",
      "100/100 [==============================] - 0s 445us/step - loss: 0.1016 - acc: 0.9900 - val_loss: 0.2657 - val_acc: 0.9300\n",
      "Epoch 174/250\n",
      "100/100 [==============================] - 0s 410us/step - loss: 0.1004 - acc: 0.9900 - val_loss: 0.2622 - val_acc: 0.9400\n",
      "Epoch 175/250\n",
      "100/100 [==============================] - 0s 421us/step - loss: 0.0990 - acc: 0.9900 - val_loss: 0.2596 - val_acc: 0.9400\n",
      "Epoch 176/250\n",
      "100/100 [==============================] - 0s 414us/step - loss: 0.0978 - acc: 0.9900 - val_loss: 0.2611 - val_acc: 0.9300\n",
      "Epoch 177/250\n",
      "100/100 [==============================] - 0s 405us/step - loss: 0.0965 - acc: 0.9900 - val_loss: 0.2590 - val_acc: 0.9300\n",
      "Epoch 178/250\n",
      "100/100 [==============================] - 0s 434us/step - loss: 0.0951 - acc: 0.9900 - val_loss: 0.2556 - val_acc: 0.9400\n",
      "Epoch 179/250\n",
      "100/100 [==============================] - 0s 422us/step - loss: 0.0939 - acc: 0.9900 - val_loss: 0.2561 - val_acc: 0.9300\n",
      "Epoch 180/250\n",
      "100/100 [==============================] - 0s 461us/step - loss: 0.0925 - acc: 0.9900 - val_loss: 0.2550 - val_acc: 0.9300\n",
      "Epoch 181/250\n",
      "100/100 [==============================] - 0s 434us/step - loss: 0.0913 - acc: 0.9900 - val_loss: 0.2515 - val_acc: 0.9400\n",
      "Epoch 182/250\n",
      "100/100 [==============================] - 0s 404us/step - loss: 0.0900 - acc: 0.9900 - val_loss: 0.2512 - val_acc: 0.9400\n",
      "Epoch 183/250\n",
      "100/100 [==============================] - 0s 405us/step - loss: 0.0887 - acc: 0.9900 - val_loss: 0.2506 - val_acc: 0.9400\n",
      "Epoch 184/250\n",
      "100/100 [==============================] - 0s 427us/step - loss: 0.0875 - acc: 0.9900 - val_loss: 0.2471 - val_acc: 0.9400\n",
      "Epoch 185/250\n",
      "100/100 [==============================] - 0s 396us/step - loss: 0.0862 - acc: 0.9900 - val_loss: 0.2466 - val_acc: 0.9400\n",
      "Epoch 186/250\n",
      "100/100 [==============================] - 0s 399us/step - loss: 0.0849 - acc: 0.9900 - val_loss: 0.2462 - val_acc: 0.9400\n",
      "Epoch 187/250\n",
      "100/100 [==============================] - 0s 436us/step - loss: 0.0838 - acc: 0.9900 - val_loss: 0.2435 - val_acc: 0.9400\n",
      "Epoch 188/250\n",
      "100/100 [==============================] - 0s 404us/step - loss: 0.0826 - acc: 0.9900 - val_loss: 0.2436 - val_acc: 0.9400\n",
      "Epoch 189/250\n",
      "100/100 [==============================] - 0s 401us/step - loss: 0.0816 - acc: 0.9900 - val_loss: 0.2426 - val_acc: 0.9400\n",
      "Epoch 190/250\n",
      "100/100 [==============================] - 0s 409us/step - loss: 0.0805 - acc: 0.9900 - val_loss: 0.2401 - val_acc: 0.9400\n",
      "Epoch 191/250\n",
      "100/100 [==============================] - 0s 392us/step - loss: 0.0793 - acc: 0.9900 - val_loss: 0.2391 - val_acc: 0.9400\n",
      "Epoch 192/250\n",
      "100/100 [==============================] - 0s 403us/step - loss: 0.0782 - acc: 0.9900 - val_loss: 0.2381 - val_acc: 0.9400\n",
      "Epoch 193/250\n",
      "100/100 [==============================] - 0s 372us/step - loss: 0.0771 - acc: 0.9900 - val_loss: 0.2360 - val_acc: 0.9400\n",
      "Epoch 194/250\n",
      "100/100 [==============================] - 0s 400us/step - loss: 0.0761 - acc: 0.9900 - val_loss: 0.2357 - val_acc: 0.9400\n",
      "Epoch 195/250\n",
      "100/100 [==============================] - 0s 433us/step - loss: 0.0750 - acc: 0.9900 - val_loss: 0.2346 - val_acc: 0.9400\n",
      "Epoch 196/250\n",
      "100/100 [==============================] - 0s 396us/step - loss: 0.0740 - acc: 0.9900 - val_loss: 0.2322 - val_acc: 0.9500\n",
      "Epoch 197/250\n",
      "100/100 [==============================] - 0s 406us/step - loss: 0.0731 - acc: 0.9900 - val_loss: 0.2322 - val_acc: 0.9400\n",
      "Epoch 198/250\n",
      "100/100 [==============================] - 0s 446us/step - loss: 0.0720 - acc: 0.9900 - val_loss: 0.2311 - val_acc: 0.9400\n",
      "Epoch 199/250\n",
      "100/100 [==============================] - 0s 416us/step - loss: 0.0710 - acc: 0.9900 - val_loss: 0.2291 - val_acc: 0.9500\n",
      "Epoch 200/250\n",
      "100/100 [==============================] - 0s 418us/step - loss: 0.0701 - acc: 0.9900 - val_loss: 0.2291 - val_acc: 0.9400\n",
      "Epoch 201/250\n",
      "100/100 [==============================] - 0s 415us/step - loss: 0.0691 - acc: 0.9900 - val_loss: 0.2279 - val_acc: 0.9400\n",
      "Epoch 202/250\n",
      "100/100 [==============================] - 0s 410us/step - loss: 0.0682 - acc: 0.9900 - val_loss: 0.2260 - val_acc: 0.9500\n",
      "Epoch 203/250\n",
      "100/100 [==============================] - 0s 419us/step - loss: 0.0672 - acc: 0.9900 - val_loss: 0.2257 - val_acc: 0.9500\n",
      "Epoch 204/250\n",
      "100/100 [==============================] - 0s 406us/step - loss: 0.0663 - acc: 0.9900 - val_loss: 0.2249 - val_acc: 0.9500\n",
      "Epoch 205/250\n",
      "100/100 [==============================] - 0s 459us/step - loss: 0.0654 - acc: 0.9900 - val_loss: 0.2232 - val_acc: 0.9500\n",
      "Epoch 206/250\n",
      "100/100 [==============================] - 0s 448us/step - loss: 0.0645 - acc: 0.9900 - val_loss: 0.2228 - val_acc: 0.9500\n",
      "Epoch 207/250\n",
      "100/100 [==============================] - 0s 415us/step - loss: 0.0636 - acc: 0.9900 - val_loss: 0.2219 - val_acc: 0.9500\n",
      "Epoch 208/250\n",
      "100/100 [==============================] - 0s 409us/step - loss: 0.0627 - acc: 0.9900 - val_loss: 0.2204 - val_acc: 0.9500\n",
      "Epoch 209/250\n",
      "100/100 [==============================] - 0s 401us/step - loss: 0.0619 - acc: 0.9900 - val_loss: 0.2199 - val_acc: 0.9500\n",
      "Epoch 210/250\n",
      "100/100 [==============================] - 0s 393us/step - loss: 0.0611 - acc: 0.9900 - val_loss: 0.2191 - val_acc: 0.9500\n",
      "Epoch 211/250\n",
      "100/100 [==============================] - 0s 411us/step - loss: 0.0602 - acc: 0.9900 - val_loss: 0.2178 - val_acc: 0.9500\n",
      "Epoch 212/250\n",
      "100/100 [==============================] - 0s 387us/step - loss: 0.0594 - acc: 0.9900 - val_loss: 0.2172 - val_acc: 0.9500\n",
      "Epoch 213/250\n",
      "100/100 [==============================] - 0s 409us/step - loss: 0.0586 - acc: 0.9900 - val_loss: 0.2163 - val_acc: 0.9500\n",
      "Epoch 214/250\n",
      "100/100 [==============================] - 0s 419us/step - loss: 0.0578 - acc: 0.9900 - val_loss: 0.2150 - val_acc: 0.9400\n",
      "Epoch 215/250\n",
      "100/100 [==============================] - 0s 401us/step - loss: 0.0570 - acc: 0.9900 - val_loss: 0.2145 - val_acc: 0.9400\n",
      "Epoch 216/250\n",
      "100/100 [==============================] - 0s 397us/step - loss: 0.0562 - acc: 0.9900 - val_loss: 0.2140 - val_acc: 0.9400\n",
      "Epoch 217/250\n",
      "100/100 [==============================] - 0s 402us/step - loss: 0.0555 - acc: 0.9900 - val_loss: 0.2128 - val_acc: 0.9400\n",
      "Epoch 218/250\n",
      "100/100 [==============================] - 0s 398us/step - loss: 0.0547 - acc: 1.0000 - val_loss: 0.2122 - val_acc: 0.9400\n",
      "Epoch 219/250\n",
      "100/100 [==============================] - 0s 425us/step - loss: 0.0540 - acc: 1.0000 - val_loss: 0.2116 - val_acc: 0.9400\n",
      "Epoch 220/250\n",
      "100/100 [==============================] - 0s 422us/step - loss: 0.0533 - acc: 1.0000 - val_loss: 0.2102 - val_acc: 0.9400\n",
      "Epoch 221/250\n",
      "100/100 [==============================] - 0s 397us/step - loss: 0.0525 - acc: 1.0000 - val_loss: 0.2101 - val_acc: 0.9400\n",
      "Epoch 222/250\n",
      "100/100 [==============================] - 0s 396us/step - loss: 0.0518 - acc: 1.0000 - val_loss: 0.2094 - val_acc: 0.9400\n",
      "Epoch 223/250\n",
      "100/100 [==============================] - 0s 385us/step - loss: 0.0511 - acc: 1.0000 - val_loss: 0.2082 - val_acc: 0.9400\n",
      "Epoch 224/250\n",
      "100/100 [==============================] - 0s 365us/step - loss: 0.0505 - acc: 1.0000 - val_loss: 0.2080 - val_acc: 0.9400\n",
      "Epoch 225/250\n",
      "100/100 [==============================] - 0s 458us/step - loss: 0.0498 - acc: 1.0000 - val_loss: 0.2072 - val_acc: 0.9400\n",
      "Epoch 226/250\n",
      "100/100 [==============================] - 0s 427us/step - loss: 0.0491 - acc: 1.0000 - val_loss: 0.2062 - val_acc: 0.9400\n",
      "Epoch 227/250\n",
      "100/100 [==============================] - 0s 412us/step - loss: 0.0485 - acc: 1.0000 - val_loss: 0.2058 - val_acc: 0.9400\n",
      "Epoch 228/250\n",
      "100/100 [==============================] - 0s 411us/step - loss: 0.0479 - acc: 1.0000 - val_loss: 0.2053 - val_acc: 0.9400\n",
      "Epoch 229/250\n",
      "100/100 [==============================] - 0s 424us/step - loss: 0.0472 - acc: 1.0000 - val_loss: 0.2047 - val_acc: 0.9400\n",
      "Epoch 230/250\n",
      "100/100 [==============================] - 0s 425us/step - loss: 0.0466 - acc: 1.0000 - val_loss: 0.2041 - val_acc: 0.9400\n",
      "Epoch 231/250\n",
      "100/100 [==============================] - 0s 414us/step - loss: 0.0460 - acc: 1.0000 - val_loss: 0.2037 - val_acc: 0.9400\n",
      "Epoch 232/250\n",
      "100/100 [==============================] - 0s 393us/step - loss: 0.0454 - acc: 1.0000 - val_loss: 0.2029 - val_acc: 0.9400\n",
      "Epoch 233/250\n",
      "100/100 [==============================] - 0s 408us/step - loss: 0.0448 - acc: 1.0000 - val_loss: 0.2025 - val_acc: 0.9400\n",
      "Epoch 234/250\n",
      "100/100 [==============================] - 0s 478us/step - loss: 0.0442 - acc: 1.0000 - val_loss: 0.2019 - val_acc: 0.9400\n",
      "Epoch 235/250\n",
      "100/100 [==============================] - 0s 417us/step - loss: 0.0436 - acc: 1.0000 - val_loss: 0.2011 - val_acc: 0.9400\n",
      "Epoch 236/250\n",
      "100/100 [==============================] - 0s 408us/step - loss: 0.0431 - acc: 1.0000 - val_loss: 0.2010 - val_acc: 0.9400\n",
      "Epoch 237/250\n",
      "100/100 [==============================] - 0s 399us/step - loss: 0.0425 - acc: 1.0000 - val_loss: 0.2005 - val_acc: 0.9400\n",
      "Epoch 238/250\n",
      "100/100 [==============================] - 0s 491us/step - loss: 0.0419 - acc: 1.0000 - val_loss: 0.1996 - val_acc: 0.9400\n",
      "Epoch 239/250\n",
      "100/100 [==============================] - 0s 440us/step - loss: 0.0414 - acc: 1.0000 - val_loss: 0.1995 - val_acc: 0.9400\n",
      "Epoch 240/250\n",
      "100/100 [==============================] - 0s 394us/step - loss: 0.0409 - acc: 1.0000 - val_loss: 0.1989 - val_acc: 0.9400\n",
      "Epoch 241/250\n",
      "100/100 [==============================] - 0s 414us/step - loss: 0.0403 - acc: 1.0000 - val_loss: 0.1980 - val_acc: 0.9400\n",
      "Epoch 242/250\n",
      "100/100 [==============================] - 0s 417us/step - loss: 0.0398 - acc: 1.0000 - val_loss: 0.1983 - val_acc: 0.9400\n",
      "Epoch 243/250\n",
      "100/100 [==============================] - 0s 438us/step - loss: 0.0393 - acc: 1.0000 - val_loss: 0.1977 - val_acc: 0.9400\n",
      "Epoch 244/250\n",
      "100/100 [==============================] - 0s 410us/step - loss: 0.0388 - acc: 1.0000 - val_loss: 0.1969 - val_acc: 0.9400\n",
      "Epoch 245/250\n",
      "100/100 [==============================] - 0s 388us/step - loss: 0.0383 - acc: 1.0000 - val_loss: 0.1972 - val_acc: 0.9400\n",
      "Epoch 246/250\n",
      "100/100 [==============================] - 0s 406us/step - loss: 0.0378 - acc: 1.0000 - val_loss: 0.1965 - val_acc: 0.9400\n",
      "Epoch 247/250\n",
      "100/100 [==============================] - 0s 403us/step - loss: 0.0373 - acc: 1.0000 - val_loss: 0.1957 - val_acc: 0.9400\n",
      "Epoch 248/250\n",
      "100/100 [==============================] - 0s 398us/step - loss: 0.0368 - acc: 1.0000 - val_loss: 0.1959 - val_acc: 0.9400\n",
      "Epoch 249/250\n",
      "100/100 [==============================] - 0s 415us/step - loss: 0.0363 - acc: 1.0000 - val_loss: 0.1955 - val_acc: 0.9400\n",
      "Epoch 250/250\n",
      "100/100 [==============================] - 0s 441us/step - loss: 0.0358 - acc: 1.0000 - val_loss: 0.1949 - val_acc: 0.9400\n"
     ]
    },
    {
     "data": {
      "text/plain": [
       "<keras.callbacks.History at 0x7f5a736580f0>"
      ]
     },
     "execution_count": 30,
     "metadata": {
      "tags": []
     },
     "output_type": "execute_result"
    }
   ],
   "source": [
    "model1 = models.Sequential()\n",
    "model1.add(layers.Conv2D(5, (5, 5), activation = 'relu', input_shape = (24, 24, 1)))\n",
    "model1.add(layers.MaxPooling2D((2, 2)))\n",
    "model1.add(layers.Conv2D(6, (3, 3), activation = 'relu'))\n",
    "model1.add(layers.Flatten())\n",
    "model1.add(layers.Dense(1, activation = 'sigmoid'))\n",
    "\n",
    "model1.compile(optimizer = 'adam', loss = 'binary_crossentropy', metrics = ['accuracy'])\n",
    "\n",
    "model1.fit(train_x_scaled, train_y, epochs = 250, batch_size = 100, validation_data = (val_x_scaled, val_y))"
   ]
  },
  {
   "cell_type": "code",
   "execution_count": 0,
   "metadata": {
    "colab": {
     "base_uri": "https://localhost:8080/",
     "height": 333
    },
    "colab_type": "code",
    "id": "QBRffaY9amQ8",
    "outputId": "947a1181-edcf-483b-a5f4-696782452224"
   },
   "outputs": [
    {
     "name": "stdout",
     "output_type": "stream",
     "text": [
      "Model: \"sequential_3\"\n",
      "_________________________________________________________________\n",
      "Layer (type)                 Output Shape              Param #   \n",
      "=================================================================\n",
      "conv2d_5 (Conv2D)            (None, 20, 20, 5)         130       \n",
      "_________________________________________________________________\n",
      "max_pooling2d_4 (MaxPooling2 (None, 10, 10, 5)         0         \n",
      "_________________________________________________________________\n",
      "conv2d_6 (Conv2D)            (None, 8, 8, 6)           276       \n",
      "_________________________________________________________________\n",
      "flatten_3 (Flatten)          (None, 384)               0         \n",
      "_________________________________________________________________\n",
      "dense_3 (Dense)              (None, 1)                 385       \n",
      "=================================================================\n",
      "Total params: 791\n",
      "Trainable params: 791\n",
      "Non-trainable params: 0\n",
      "_________________________________________________________________\n"
     ]
    }
   ],
   "source": [
    "model1.summary()"
   ]
  },
  {
   "cell_type": "markdown",
   "metadata": {
    "colab_type": "text",
    "id": "Ml-4euPcVkDr"
   },
   "source": [
    "## Validation set accuracy for our hand-made model"
   ]
  },
  {
   "cell_type": "code",
   "execution_count": 0,
   "metadata": {
    "colab": {
     "base_uri": "https://localhost:8080/",
     "height": 35
    },
    "colab_type": "code",
    "id": "LubjdjwPOSId",
    "outputId": "bf4cc4b4-c565-4d7c-aa4a-2896ee8248a9"
   },
   "outputs": [
    {
     "data": {
      "text/plain": [
       "1.0"
      ]
     },
     "execution_count": 28,
     "metadata": {
      "tags": []
     },
     "output_type": "execute_result"
    }
   ],
   "source": [
    "yhat = np.ndarray((100,1))\n",
    "for i in range(100):\n",
    "  yhat[i,0] = predict_my_nn(val_x[i, ...]).astype(int)\n",
    "\n",
    "np.mean(yhat == val_y)"
   ]
  },
  {
   "cell_type": "markdown",
   "metadata": {
    "colab_type": "text",
    "id": "kOw8Fn8BYrJi"
   },
   "source": [
    "## Visualizing Keras Model Activations\n",
    "\n",
    "We can plot the activation outputs from each unit (or a selection of units) in a Keras model using the following code (adapted from Chapter 5 of Chollet).  This is what we did with our regression models last week, and with our hand-made model above.\n"
   ]
  },
  {
   "cell_type": "code",
   "execution_count": 0,
   "metadata": {
    "colab": {
     "base_uri": "https://localhost:8080/",
     "height": 55
    },
    "colab_type": "code",
    "id": "e_Nu-qVhRT0o",
    "outputId": "87910b2e-7b68-49bf-8253-c5344427c0a2"
   },
   "outputs": [
    {
     "name": "stdout",
     "output_type": "stream",
     "text": [
      "[<tf.Tensor 'conv2d_5/Relu:0' shape=(?, 20, 20, 5) dtype=float32>, <tf.Tensor 'max_pooling2d_4/MaxPool:0' shape=(?, 10, 10, 5) dtype=float32>, <tf.Tensor 'conv2d_6/Relu:0' shape=(?, 8, 8, 6) dtype=float32>, <tf.Tensor 'flatten_3/Reshape:0' shape=(?, ?) dtype=float32>, <tf.Tensor 'dense_3/Sigmoid:0' shape=(?, 1) dtype=float32>]\n"
     ]
    }
   ],
   "source": [
    "# extract a list with the outputs from all layers in the model\n",
    "layer_outputs = [layer.output for layer in model1.layers]\n",
    "print(layer_outputs)\n",
    "\n",
    "# create a new model with all these layers as outputs\n",
    "# instead of 1 output layer at the end, we get to see the outputs from every layer\n",
    "activation_model = models.Model(inputs = model1.input, outputs = layer_outputs)"
   ]
  },
  {
   "cell_type": "code",
   "execution_count": 0,
   "metadata": {
    "colab": {
     "base_uri": "https://localhost:8080/",
     "height": 308
    },
    "colab_type": "code",
    "id": "h7Auqrqabi4Y",
    "outputId": "f563d0bb-e685-4822-a7ef-6b788b4f3f52"
   },
   "outputs": [
    {
     "data": {
      "image/png": "[encoded data removed]",
      "text/plain": [
       "<Figure size 864x360 with 12 Axes>"
      ]
     },
     "metadata": {
      "tags": []
     },
     "output_type": "display_data"
    }
   ],
   "source": [
    "# call predict to get the activations for a square and a triangle\n",
    "input_img = val_x[0:1,...]\n",
    "activations = activation_model.predict(input_img)\n",
    "#tri_activations = activation_model.predict(val_x[1:2,...])\n",
    "\n",
    "fig, axs = plt.subplots(2, 6, figsize=(12, 5))\n",
    "axs[0,0].imshow(input_img[0, :, :, 0], cmap = \"gray\")\n",
    "axs[0,0].set_title(\"input\")\n",
    "\n",
    "# layer 0 activations\n",
    "for i in range(5):\n",
    "  axs[0, i+1].imshow(activations[0][0,:,:,i], cmap = \"gray\")\n",
    "  axs[0, i+1].set_title(\"layer 0, channel \" + str(i))\n",
    "\n",
    "# layer 2 activations\n",
    "for i in range(6):\n",
    "  axs[1, i].imshow(activations[2][0,:,:,i], cmap = \"gray\")\n",
    "  axs[1, i].set_title(\"layer 2, channel \" + str(i))\n"
   ]
  },
  {
   "cell_type": "code",
   "execution_count": 0,
   "metadata": {
    "colab": {
     "base_uri": "https://localhost:8080/",
     "height": 308
    },
    "colab_type": "code",
    "id": "I1QZql5LigfT",
    "outputId": "a9cc352d-11f5-4ef1-9408-b533bb7fcab4"
   },
   "outputs": [
    {
     "data": {
      "image/png": "[encoded data removed]",
      "text/plain": [
       "<Figure size 864x360 with 12 Axes>"
      ]
     },
     "metadata": {
      "tags": []
     },
     "output_type": "display_data"
    }
   ],
   "source": [
    "# call predict to get the activations for a square and a triangle\n",
    "input_img = val_x[50:51,...]\n",
    "activations = activation_model.predict(input_img)\n",
    "#tri_activations = activation_model.predict(val_x[1:2,...])\n",
    "\n",
    "fig, axs = plt.subplots(2, 6, figsize=(12, 5))\n",
    "axs[0,0].imshow(input_img[0, :, :, 0], cmap = \"gray\")\n",
    "axs[0,0].set_title(\"input\")\n",
    "\n",
    "# layer 0 activations\n",
    "for i in range(5):\n",
    "  axs[0, i+1].imshow(activations[0][0,:,:,i], cmap = \"gray\")\n",
    "  axs[0, i+1].set_title(\"layer 0, channel \" + str(i))\n",
    "\n",
    "# layer 2 activations\n",
    "for i in range(6):\n",
    "  axs[1, i].imshow(activations[2][0,:,:,i], cmap = \"gray\")\n",
    "  axs[1, i].set_title(\"layer 2, channel \" + str(i))\n"
   ]
  }
 ],
 "metadata": {
  "colab": {
   "collapsed_sections": [],
   "name": "Examples_20200224.ipynb",
   "provenance": []
  },
  "kernelspec": {
   "display_name": "Python 3",
   "language": "python",
   "name": "python3"
  },
  "language_info": {
   "codemirror_mode": {
    "name": "ipython",
    "version": 3
   },
   "file_extension": ".py",
   "mimetype": "text/x-python",
   "name": "python",
   "nbconvert_exporter": "python",
   "pygments_lexer": "ipython3",
   "version": "3.7.5"
  }
 },
 "nbformat": 4,
 "nbformat_minor": 1
}
